{
 "cells": [
  {
   "cell_type": "code",
   "execution_count": 144,
   "metadata": {},
   "outputs": [],
   "source": [
    "import numpy as np\n",
    "import pandas as pd\n",
    "import spacy\n",
    "import re"
   ]
  },
  {
   "cell_type": "code",
   "execution_count": 145,
   "metadata": {},
   "outputs": [],
   "source": [
    "from nltk.stem.wordnet import WordNetLemmatizer\n",
    "from nltk.corpus import stopwords"
   ]
  },
  {
   "cell_type": "code",
   "execution_count": 146,
   "metadata": {},
   "outputs": [],
   "source": [
    "stop_words = stopwords.words('english')"
   ]
  },
  {
   "cell_type": "code",
   "execution_count": 147,
   "metadata": {},
   "outputs": [],
   "source": [
    "df = pd.read_csv('df_selling_1.csv')"
   ]
  },
  {
   "cell_type": "markdown",
   "metadata": {},
   "source": [
    "### Cleaning the Titles"
   ]
  },
  {
   "cell_type": "code",
   "execution_count": 148,
   "metadata": {},
   "outputs": [],
   "source": [
    "def clean_title(title):\n",
    "    x = title[:title.find('[W]')] \n",
    "    x = re.sub('\\[H]', '', x)\n",
    "    x = re.sub('\\[', '', x)\n",
    "    x = re.sub('\\]', '', x)\n",
    "    return x\n",
    "        "
   ]
  },
  {
   "cell_type": "code",
   "execution_count": 149,
   "metadata": {},
   "outputs": [],
   "source": [
    "def title_len(title):\n",
    "    x = len(title)\n",
    "    return x"
   ]
  },
  {
   "cell_type": "code",
   "execution_count": 150,
   "metadata": {},
   "outputs": [],
   "source": [
    "def titles(df):\n",
    "    df['title_clean'] = df['title'].apply(clean_title)\n",
    "    df['title_len'] = df['title_clean'] .apply(title_len)\n",
    "    shorter_titles = df[df['title_len'] < 65]\n",
    "    shorter_titles.drop(['Unnamed: 0', 'title_len', 'num_products'], axis=1, inplace=True)\n",
    "    return shorter_titles\n",
    "    \n",
    "    "
   ]
  },
  {
   "cell_type": "code",
   "execution_count": 151,
   "metadata": {},
   "outputs": [],
   "source": [
    "df = titles(df)"
   ]
  },
  {
   "cell_type": "code",
   "execution_count": null,
   "metadata": {},
   "outputs": [],
   "source": []
  },
  {
   "cell_type": "markdown",
   "metadata": {},
   "source": [
    "### Cleaning the text"
   ]
  },
  {
   "cell_type": "code",
   "execution_count": 155,
   "metadata": {},
   "outputs": [],
   "source": [
    "def clean_text(line):\n",
    "    line = str(line)\n",
    "    line = line.replace('\\n', ' ')\n",
    "    line = line.replace('\\n\\n', ' ')\n",
    "    line = line.replace('\\n\\n\\n', ' ')\n",
    "    line = line.replace('&', ' ')\n",
    "    line = line.replace('#', '')\n",
    "    line = line.replace('x200B', ' ')\n",
    "    line = line.replace('[', ' ')\n",
    "    line = line.replace(']', ' ')\n",
    "    line = line.replace('(', ' ')\n",
    "    line = line.replace(')', ' ')\n",
    "    line = line.replace('|',' ')\n",
    "    line = line.replace(':-', '')\n",
    "    line = line.replace('~', '')\n",
    "    line = line.replace('~~', '')\n",
    "    line = line.replace('-', ' ')\n",
    "    line = line.replace('\\\\', '')\n",
    "    line = line.replace('*', '')\n",
    "    return line\n",
    "    "
   ]
  },
  {
   "cell_type": "code",
   "execution_count": 156,
   "metadata": {},
   "outputs": [],
   "source": [
    "def texts(df):\n",
    "    df['text_clean'] = df['text'].apply(clean_text)\n",
    "    return df"
   ]
  },
  {
   "cell_type": "code",
   "execution_count": 157,
   "metadata": {},
   "outputs": [],
   "source": [
    "df = texts(df)"
   ]
  },
  {
   "cell_type": "code",
   "execution_count": 160,
   "metadata": {},
   "outputs": [],
   "source": [
    "clean_text = df['text_clean'].to_list()"
   ]
  },
  {
   "cell_type": "code",
   "execution_count": 164,
   "metadata": {},
   "outputs": [],
   "source": [
    "df.to_csv('cleaned_df.csv')"
   ]
  },
  {
   "cell_type": "code",
   "execution_count": null,
   "metadata": {},
   "outputs": [],
   "source": []
  },
  {
   "cell_type": "code",
   "execution_count": null,
   "metadata": {},
   "outputs": [],
   "source": []
  }
 ],
 "metadata": {
  "kernelspec": {
   "display_name": "learn-env",
   "language": "python",
   "name": "learn-env"
  },
  "language_info": {
   "codemirror_mode": {
    "name": "ipython",
    "version": 3
   },
   "file_extension": ".py",
   "mimetype": "text/x-python",
   "name": "python",
   "nbconvert_exporter": "python",
   "pygments_lexer": "ipython3",
   "version": "3.7.3"
  }
 },
 "nbformat": 4,
 "nbformat_minor": 2
}
