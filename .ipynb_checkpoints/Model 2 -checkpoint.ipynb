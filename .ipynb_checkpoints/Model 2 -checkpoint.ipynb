{
 "cells": [
  {
   "cell_type": "code",
   "execution_count": 1,
   "metadata": {},
   "outputs": [],
   "source": [
    "import numpy as np\n",
    "import pandas as pd\n",
    "import spacy\n",
    "import re"
   ]
  },
  {
   "cell_type": "code",
   "execution_count": 22,
   "metadata": {},
   "outputs": [],
   "source": [
    "from __future__ import unicode_literals, print_function\n",
    "\n",
    "import plac\n",
    "import random\n",
    "from pathlib import Path\n",
    "import spacy\n",
    "from spacy.util import minibatch, compounding"
   ]
  },
  {
   "cell_type": "code",
   "execution_count": 2,
   "metadata": {},
   "outputs": [],
   "source": [
    "nlp = spacy.load(\"en_core_web_lg\")"
   ]
  },
  {
   "cell_type": "code",
   "execution_count": 3,
   "metadata": {},
   "outputs": [],
   "source": [
    "df = pd.read_csv('cleaned_df.csv')\n",
    "df.drop('Unnamed: 0', axis=1, inplace=True)"
   ]
  },
  {
   "cell_type": "code",
   "execution_count": null,
   "metadata": {},
   "outputs": [],
   "source": [
    "df['combined'] = df['title_clean'] + df['text_clean']"
   ]
  },
  {
   "cell_type": "code",
   "execution_count": 6,
   "metadata": {},
   "outputs": [
    {
     "data": {
      "text/html": [
       "<div>\n",
       "<style scoped>\n",
       "    .dataframe tbody tr th:only-of-type {\n",
       "        vertical-align: middle;\n",
       "    }\n",
       "\n",
       "    .dataframe tbody tr th {\n",
       "        vertical-align: top;\n",
       "    }\n",
       "\n",
       "    .dataframe thead th {\n",
       "        text-align: right;\n",
       "    }\n",
       "</style>\n",
       "<table border=\"1\" class=\"dataframe\">\n",
       "  <thead>\n",
       "    <tr style=\"text-align: right;\">\n",
       "      <th></th>\n",
       "      <th>id</th>\n",
       "      <th>date</th>\n",
       "      <th>title</th>\n",
       "      <th>text</th>\n",
       "      <th>direction</th>\n",
       "      <th>author</th>\n",
       "      <th>link</th>\n",
       "      <th>title_clean</th>\n",
       "      <th>text_clean</th>\n",
       "      <th>combined</th>\n",
       "    </tr>\n",
       "  </thead>\n",
       "  <tbody>\n",
       "    <tr>\n",
       "      <th>0</th>\n",
       "      <td>ef6gns</td>\n",
       "      <td>12/24/2019</td>\n",
       "      <td>[USA-OH] [H] Valve index full kit [W] Paypal</td>\n",
       "      <td>http://imgur.com/gallery/hcNYf9a\\n\\nSelling my...</td>\n",
       "      <td>SELLING</td>\n",
       "      <td>HoochtheHero</td>\n",
       "      <td>/r/hardwareswap/comments/ef6gns/usaoh_h_valve_...</td>\n",
       "      <td>USA-OH  Valve index full kit</td>\n",
       "      <td>http://imgur.com/gallery/hcNYf9a  Selling my V...</td>\n",
       "      <td>USA-OH  Valve index full kit http://imgur.com/...</td>\n",
       "    </tr>\n",
       "    <tr>\n",
       "      <th>1</th>\n",
       "      <td>ef60t3</td>\n",
       "      <td>12/24/2019</td>\n",
       "      <td>[USA-OH][H] MSI Armor RX 580 4GB [W] Paypal, L...</td>\n",
       "      <td>Used for about 4-5 months and is very clean ba...</td>\n",
       "      <td>SELLING</td>\n",
       "      <td>asterik216</td>\n",
       "      <td>/r/hardwareswap/comments/ef60t3/usaohh_msi_arm...</td>\n",
       "      <td>USA-OH MSI Armor RX 580 4GB</td>\n",
       "      <td>Used for about 4 5 months and is very clean ba...</td>\n",
       "      <td>USA-OH MSI Armor RX 580 4GB Used for about 4 5...</td>\n",
       "    </tr>\n",
       "    <tr>\n",
       "      <th>2</th>\n",
       "      <td>ef5av3</td>\n",
       "      <td>12/24/2019</td>\n",
       "      <td>[USA-IL] [H] Bose SoundSport Free [W] PayPal</td>\n",
       "      <td>[Timestamps here](https://imgur.com/bMnWAId)\\n...</td>\n",
       "      <td>SELLING</td>\n",
       "      <td>legoswag123</td>\n",
       "      <td>/r/hardwareswap/comments/ef5av3/usail_h_bose_s...</td>\n",
       "      <td>USA-IL  Bose SoundSport Free</td>\n",
       "      <td>Timestamps here  https://imgur.com/bMnWAId   ...</td>\n",
       "      <td>USA-IL  Bose SoundSport Free  Timestamps here ...</td>\n",
       "    </tr>\n",
       "    <tr>\n",
       "      <th>3</th>\n",
       "      <td>ef5auo</td>\n",
       "      <td>12/24/2019</td>\n",
       "      <td>[USA-ID][H] BNIB Dell U3818DW ultra wide ultra...</td>\n",
       "      <td>(I apologize if my photos are confusing but th...</td>\n",
       "      <td>SELLING</td>\n",
       "      <td>Red_1224</td>\n",
       "      <td>/r/hardwareswap/comments/ef5auo/usaidh_bnib_de...</td>\n",
       "      <td>USA-ID BNIB Dell U3818DW ultra wide ultra shar...</td>\n",
       "      <td>I apologize if my photos are confusing but th...</td>\n",
       "      <td>USA-ID BNIB Dell U3818DW ultra wide ultra shar...</td>\n",
       "    </tr>\n",
       "    <tr>\n",
       "      <th>4</th>\n",
       "      <td>ef75tz</td>\n",
       "      <td>12/24/2019</td>\n",
       "      <td>[USA-KS] [H] acer nitro 5 spin gaming laptop [...</td>\n",
       "      <td>Selling a new and unused laptop that I got fro...</td>\n",
       "      <td>SELLING</td>\n",
       "      <td>TIMTWIJUTSU21</td>\n",
       "      <td>/r/hardwareswap/comments/ef75tz/usaks_h_acer_n...</td>\n",
       "      <td>USA-KS  acer nitro 5 spin gaming laptop</td>\n",
       "      <td>Selling a new and unused laptop that I got fro...</td>\n",
       "      <td>USA-KS  acer nitro 5 spin gaming laptop Sellin...</td>\n",
       "    </tr>\n",
       "  </tbody>\n",
       "</table>\n",
       "</div>"
      ],
      "text/plain": [
       "       id        date                                              title  \\\n",
       "0  ef6gns  12/24/2019       [USA-OH] [H] Valve index full kit [W] Paypal   \n",
       "1  ef60t3  12/24/2019  [USA-OH][H] MSI Armor RX 580 4GB [W] Paypal, L...   \n",
       "2  ef5av3  12/24/2019       [USA-IL] [H] Bose SoundSport Free [W] PayPal   \n",
       "3  ef5auo  12/24/2019  [USA-ID][H] BNIB Dell U3818DW ultra wide ultra...   \n",
       "4  ef75tz  12/24/2019  [USA-KS] [H] acer nitro 5 spin gaming laptop [...   \n",
       "\n",
       "                                                text direction         author  \\\n",
       "0  http://imgur.com/gallery/hcNYf9a\\n\\nSelling my...   SELLING   HoochtheHero   \n",
       "1  Used for about 4-5 months and is very clean ba...   SELLING     asterik216   \n",
       "2  [Timestamps here](https://imgur.com/bMnWAId)\\n...   SELLING    legoswag123   \n",
       "3  (I apologize if my photos are confusing but th...   SELLING       Red_1224   \n",
       "4  Selling a new and unused laptop that I got fro...   SELLING  TIMTWIJUTSU21   \n",
       "\n",
       "                                                link  \\\n",
       "0  /r/hardwareswap/comments/ef6gns/usaoh_h_valve_...   \n",
       "1  /r/hardwareswap/comments/ef60t3/usaohh_msi_arm...   \n",
       "2  /r/hardwareswap/comments/ef5av3/usail_h_bose_s...   \n",
       "3  /r/hardwareswap/comments/ef5auo/usaidh_bnib_de...   \n",
       "4  /r/hardwareswap/comments/ef75tz/usaks_h_acer_n...   \n",
       "\n",
       "                                         title_clean  \\\n",
       "0                      USA-OH  Valve index full kit    \n",
       "1                       USA-OH MSI Armor RX 580 4GB    \n",
       "2                      USA-IL  Bose SoundSport Free    \n",
       "3  USA-ID BNIB Dell U3818DW ultra wide ultra shar...   \n",
       "4           USA-KS  acer nitro 5 spin gaming laptop    \n",
       "\n",
       "                                          text_clean  \\\n",
       "0  http://imgur.com/gallery/hcNYf9a  Selling my V...   \n",
       "1  Used for about 4 5 months and is very clean ba...   \n",
       "2   Timestamps here  https://imgur.com/bMnWAId   ...   \n",
       "3   I apologize if my photos are confusing but th...   \n",
       "4  Selling a new and unused laptop that I got fro...   \n",
       "\n",
       "                                            combined  \n",
       "0  USA-OH  Valve index full kit http://imgur.com/...  \n",
       "1  USA-OH MSI Armor RX 580 4GB Used for about 4 5...  \n",
       "2  USA-IL  Bose SoundSport Free  Timestamps here ...  \n",
       "3  USA-ID BNIB Dell U3818DW ultra wide ultra shar...  \n",
       "4  USA-KS  acer nitro 5 spin gaming laptop Sellin...  "
      ]
     },
     "execution_count": 6,
     "metadata": {},
     "output_type": "execute_result"
    }
   ],
   "source": [
    "df.head()"
   ]
  },
  {
   "cell_type": "markdown",
   "metadata": {},
   "source": [
    "## Training the Model \n",
    "- annotation"
   ]
  },
  {
   "cell_type": "code",
   "execution_count": 8,
   "metadata": {},
   "outputs": [],
   "source": [
    "data = df['combined'].to_list()"
   ]
  },
  {
   "cell_type": "code",
   "execution_count": 9,
   "metadata": {},
   "outputs": [
    {
     "data": {
      "text/plain": [
       "\"USA-OH  Valve index full kit http://imgur.com/gallery/hcNYf9a  Selling my Valve index kit. It's practically new, only used twice and I've only owned it for a little over 2 weeks. Turns out VR isn't really for me. Asking $900 plus shipping. Please comment before you PM. Merry Christmas!   SOLD FOR ASKING\""
      ]
     },
     "execution_count": 9,
     "metadata": {},
     "output_type": "execute_result"
    }
   ],
   "source": [
    "data[0]"
   ]
  },
  {
   "cell_type": "code",
   "execution_count": 10,
   "metadata": {},
   "outputs": [],
   "source": [
    "x = data[0]"
   ]
  },
  {
   "cell_type": "code",
   "execution_count": 88,
   "metadata": {},
   "outputs": [
    {
     "data": {
      "text/plain": [
       "[(198, 221)]"
      ]
     },
     "execution_count": 88,
     "metadata": {},
     "output_type": "execute_result"
    }
   ],
   "source": [
    "[(m.start(0), m.end(0)) for m in re.finditer('slightly used condition', z)]"
   ]
  },
  {
   "cell_type": "code",
   "execution_count": 37,
   "metadata": {},
   "outputs": [
    {
     "data": {
      "text/plain": [
       "'USA-OH MSI Armor RX 580 4GB Used for about 4 5 months and is very clean basically no dust on it. Looking for $90 shipped or $80 local. Thanks https://imgur.com/6fJCDXH  Sold to /u/oswwwald'"
      ]
     },
     "execution_count": 37,
     "metadata": {},
     "output_type": "execute_result"
    }
   ],
   "source": [
    "data[1]"
   ]
  },
  {
   "cell_type": "code",
   "execution_count": 38,
   "metadata": {},
   "outputs": [],
   "source": [
    "y = data[1]"
   ]
  },
  {
   "cell_type": "code",
   "execution_count": 68,
   "metadata": {},
   "outputs": [
    {
     "data": {
      "text/plain": [
       "'USA-IL  Bose SoundSport Free  Timestamps here  https://imgur.com/bMnWAId   Brand New, SEALED Bose SoundSport Free in Black.  125 SHIPPED'"
      ]
     },
     "execution_count": 68,
     "metadata": {},
     "output_type": "execute_result"
    }
   ],
   "source": [
    "data[2]"
   ]
  },
  {
   "cell_type": "code",
   "execution_count": 80,
   "metadata": {},
   "outputs": [],
   "source": [
    "z = data[7]"
   ]
  },
  {
   "cell_type": "code",
   "execution_count": 81,
   "metadata": {},
   "outputs": [
    {
     "data": {
      "text/plain": [
       "'USA-OH  MSI Prestige PE62VR 7RF-836 Laptop Selling my MSI Prestige PE62VR 7RF 836 laptop for $650 OBO or a Higher end graphics card  Timestamp:  https://imgur.com/UchSxvF   In a well taken care of, slightly used condition. No scratches on the screen and it runs great. Always used with a fan cooling pad underneath.  Specs:  Screen is 15.6\" Full HD IPS 1080p  CPU: i7 7700HQ  GPU: GTX 1060 6gb  RAM: 32gb  16gb2  DDR4 2133MHz'"
      ]
     },
     "execution_count": 81,
     "metadata": {},
     "output_type": "execute_result"
    }
   ],
   "source": [
    "z"
   ]
  },
  {
   "cell_type": "code",
   "execution_count": 89,
   "metadata": {},
   "outputs": [],
   "source": [
    "# Annotating Train data\n",
    "TRAIN_DATA = [\n",
    "    (x, {\n",
    "        'entities': [(8, 28, 'PRODUCT'), (74, 89, 'PRODUCT'), (96, 128, 'CONDITION'), (29, 61, 'URL'),\n",
    "                    (0, 6, 'LOCATION')]\n",
    "    }),\n",
    "    (y, {\n",
    "        'entities': [(0, 6, 'LOCATION'), (7, 27, 'PRODUCT'), (28, 32, 'CONDITION'), (109, 112, 'PRICE'), (124, 127, 'PRICE'),\n",
    "                    (142, 167, 'URL'), (177, 188, 'USERNAME')]\n",
    "    }),\n",
    "    (z, {\n",
    "        'entities': [(0, 6, 'LOCATION'), (8, 42, 'PRODUCT'), (54, 88, 'PRODUCT'), (90, 94, 'PRICE'), (198, 221, 'CONDITION'),\n",
    "                    (145, 170, 'URL')]\n",
    "    })\n",
    "\n",
    "]"
   ]
  },
  {
   "cell_type": "code",
   "execution_count": 90,
   "metadata": {},
   "outputs": [],
   "source": [
    "# sets the model, out directory to save model and training iterations \n",
    "model = None\n",
    "output_dir=Path(\"/Users/eric/Projects/Product-Named-Entity-Recognition/model1\")\n",
    "n_iter=100"
   ]
  },
  {
   "cell_type": "code",
   "execution_count": 91,
   "metadata": {},
   "outputs": [
    {
     "name": "stdout",
     "output_type": "stream",
     "text": [
      "Created blank 'en' model\n"
     ]
    }
   ],
   "source": [
    "# Checks to see if there is a current model or no model. In this case I will be starting with a blank model \n",
    "# so this will create a blank english model \n",
    "if model is not None:\n",
    "    ner_model = spacy.load(model)  # load existing spaCy model\n",
    "    print(\"Loaded model '%s'\" % model)\n",
    "else:\n",
    "    ner_model = spacy.blank('en')  # create blank Language class\n",
    "    print(\"Created blank 'en' model\")"
   ]
  },
  {
   "cell_type": "code",
   "execution_count": 92,
   "metadata": {},
   "outputs": [],
   "source": [
    "# create the built-in pipeline components and add them to the pipeline\n",
    "    # nlp.create_pipe works for built-ins that are registered with spaCy\n",
    "if 'ner' not in ner_model.pipe_names:\n",
    "    ner = ner_model.create_pipe('ner')\n",
    "    ner_model.add_pipe(ner, last=True)\n",
    "# otherwise, get it so we can add labels\n",
    "else:\n",
    "    ner = ner_model.get_pipe('ner')"
   ]
  },
  {
   "cell_type": "code",
   "execution_count": 93,
   "metadata": {},
   "outputs": [
    {
     "name": "stderr",
     "output_type": "stream",
     "text": [
      "100%|██████████| 3/3 [00:00<00:00, 19.58it/s]\n",
      "100%|██████████| 3/3 [00:00<00:00, 27.96it/s]\n",
      "  0%|          | 0/3 [00:00<?, ?it/s]"
     ]
    },
    {
     "name": "stdout",
     "output_type": "stream",
     "text": [
      "{'ner': 150.03173223137856}\n",
      "{'ner': 166.58410853147507}\n"
     ]
    },
    {
     "name": "stderr",
     "output_type": "stream",
     "text": [
      "100%|██████████| 3/3 [00:00<00:00, 26.73it/s]\n",
      "100%|██████████| 3/3 [00:00<00:00, 33.51it/s]\n",
      "100%|██████████| 3/3 [00:00<00:00, 29.62it/s]\n",
      "  0%|          | 0/3 [00:00<?, ?it/s]"
     ]
    },
    {
     "name": "stdout",
     "output_type": "stream",
     "text": [
      "{'ner': 172.0349669456482}\n",
      "{'ner': 151.52442234754562}\n",
      "{'ner': 114.52794591896236}\n"
     ]
    },
    {
     "name": "stderr",
     "output_type": "stream",
     "text": [
      "100%|██████████| 3/3 [00:00<00:00, 23.89it/s]\n",
      "100%|██████████| 3/3 [00:00<00:00, 24.64it/s]\n",
      "  0%|          | 0/3 [00:00<?, ?it/s]"
     ]
    },
    {
     "name": "stdout",
     "output_type": "stream",
     "text": [
      "{'ner': 54.06837342272047}\n",
      "{'ner': 42.16833129634483}\n"
     ]
    },
    {
     "name": "stderr",
     "output_type": "stream",
     "text": [
      "100%|██████████| 3/3 [00:00<00:00, 29.98it/s]\n",
      "100%|██████████| 3/3 [00:00<00:00, 26.66it/s]\n",
      "  0%|          | 0/3 [00:00<?, ?it/s]"
     ]
    },
    {
     "name": "stdout",
     "output_type": "stream",
     "text": [
      "{'ner': 35.859553333929625}\n",
      "{'ner': 38.584798006796746}\n"
     ]
    },
    {
     "name": "stderr",
     "output_type": "stream",
     "text": [
      "100%|██████████| 3/3 [00:00<00:00, 24.90it/s]\n",
      "100%|██████████| 3/3 [00:00<00:00, 29.60it/s]\n",
      "  0%|          | 0/3 [00:00<?, ?it/s]"
     ]
    },
    {
     "name": "stdout",
     "output_type": "stream",
     "text": [
      "{'ner': 33.25539104032325}\n",
      "{'ner': 35.847983314620365}\n"
     ]
    },
    {
     "name": "stderr",
     "output_type": "stream",
     "text": [
      "100%|██████████| 3/3 [00:00<00:00, 23.84it/s]\n",
      "100%|██████████| 3/3 [00:00<00:00, 25.64it/s]\n",
      "  0%|          | 0/3 [00:00<?, ?it/s]"
     ]
    },
    {
     "name": "stdout",
     "output_type": "stream",
     "text": [
      "{'ner': 31.205800270615327}\n",
      "{'ner': 30.42969796678335}\n"
     ]
    },
    {
     "name": "stderr",
     "output_type": "stream",
     "text": [
      "100%|██████████| 3/3 [00:00<00:00, 27.61it/s]\n",
      "100%|██████████| 3/3 [00:00<00:00, 27.56it/s]\n",
      "  0%|          | 0/3 [00:00<?, ?it/s]"
     ]
    },
    {
     "name": "stdout",
     "output_type": "stream",
     "text": [
      "{'ner': 32.1639006681653}\n",
      "{'ner': 98.08214579836931}\n"
     ]
    },
    {
     "name": "stderr",
     "output_type": "stream",
     "text": [
      "100%|██████████| 3/3 [00:00<00:00, 29.15it/s]\n",
      "100%|██████████| 3/3 [00:00<00:00, 31.90it/s]\n",
      "  0%|          | 0/3 [00:00<?, ?it/s]"
     ]
    },
    {
     "name": "stdout",
     "output_type": "stream",
     "text": [
      "{'ner': 26.991736213225522}\n",
      "{'ner': 39.13770720766445}\n"
     ]
    },
    {
     "name": "stderr",
     "output_type": "stream",
     "text": [
      "100%|██████████| 3/3 [00:00<00:00, 26.37it/s]\n",
      "100%|██████████| 3/3 [00:00<00:00, 28.42it/s]\n",
      "  0%|          | 0/3 [00:00<?, ?it/s]"
     ]
    },
    {
     "name": "stdout",
     "output_type": "stream",
     "text": [
      "{'ner': 29.987955859965723}\n",
      "{'ner': 32.84032893652852}\n"
     ]
    },
    {
     "name": "stderr",
     "output_type": "stream",
     "text": [
      "100%|██████████| 3/3 [00:00<00:00, 23.51it/s]\n",
      "100%|██████████| 3/3 [00:00<00:00, 27.14it/s]\n",
      "  0%|          | 0/3 [00:00<?, ?it/s]"
     ]
    },
    {
     "name": "stdout",
     "output_type": "stream",
     "text": [
      "{'ner': 73.04364898532856}\n",
      "{'ner': 68.63316341535352}\n"
     ]
    },
    {
     "name": "stderr",
     "output_type": "stream",
     "text": [
      "100%|██████████| 3/3 [00:00<00:00, 29.26it/s]\n",
      "100%|██████████| 3/3 [00:00<00:00, 21.93it/s]\n",
      "  0%|          | 0/3 [00:00<?, ?it/s]"
     ]
    },
    {
     "name": "stdout",
     "output_type": "stream",
     "text": [
      "{'ner': 43.9466633371494}\n",
      "{'ner': 43.2482888271564}\n"
     ]
    },
    {
     "name": "stderr",
     "output_type": "stream",
     "text": [
      "100%|██████████| 3/3 [00:00<00:00, 21.24it/s]\n",
      "100%|██████████| 3/3 [00:00<00:00, 25.49it/s]\n",
      "  0%|          | 0/3 [00:00<?, ?it/s]"
     ]
    },
    {
     "name": "stdout",
     "output_type": "stream",
     "text": [
      "{'ner': 46.94176244144405}\n",
      "{'ner': 83.5481475167409}\n"
     ]
    },
    {
     "name": "stderr",
     "output_type": "stream",
     "text": [
      "100%|██████████| 3/3 [00:00<00:00, 29.68it/s]\n",
      "100%|██████████| 3/3 [00:00<00:00, 23.70it/s]\n",
      "  0%|          | 0/3 [00:00<?, ?it/s]"
     ]
    },
    {
     "name": "stdout",
     "output_type": "stream",
     "text": [
      "{'ner': 100.2638213032078}\n",
      "{'ner': 189.6083735329341}\n"
     ]
    },
    {
     "name": "stderr",
     "output_type": "stream",
     "text": [
      "100%|██████████| 3/3 [00:00<00:00, 26.14it/s]\n",
      "100%|██████████| 3/3 [00:00<00:00, 25.07it/s]\n",
      "  0%|          | 0/3 [00:00<?, ?it/s]"
     ]
    },
    {
     "name": "stdout",
     "output_type": "stream",
     "text": [
      "{'ner': 77.5425651804544}\n",
      "{'ner': 99.48258494606466}\n"
     ]
    },
    {
     "name": "stderr",
     "output_type": "stream",
     "text": [
      "100%|██████████| 3/3 [00:00<00:00, 27.00it/s]\n",
      "100%|██████████| 3/3 [00:00<00:00, 24.37it/s]\n",
      "  0%|          | 0/3 [00:00<?, ?it/s]"
     ]
    },
    {
     "name": "stdout",
     "output_type": "stream",
     "text": [
      "{'ner': 44.08436000024085}\n",
      "{'ner': 45.47141376040429}\n"
     ]
    },
    {
     "name": "stderr",
     "output_type": "stream",
     "text": [
      "100%|██████████| 3/3 [00:00<00:00, 24.86it/s]\n",
      "100%|██████████| 3/3 [00:00<00:00, 23.65it/s]\n",
      "  0%|          | 0/3 [00:00<?, ?it/s]"
     ]
    },
    {
     "name": "stdout",
     "output_type": "stream",
     "text": [
      "{'ner': 35.31440064472383}\n",
      "{'ner': 130.49086097567238}\n"
     ]
    },
    {
     "name": "stderr",
     "output_type": "stream",
     "text": [
      "100%|██████████| 3/3 [00:00<00:00, 22.38it/s]\n",
      "100%|██████████| 3/3 [00:00<00:00, 24.84it/s]\n",
      "  0%|          | 0/3 [00:00<?, ?it/s]"
     ]
    },
    {
     "name": "stdout",
     "output_type": "stream",
     "text": [
      "{'ner': 29.205404144193373}\n",
      "{'ner': 149.45732485713802}\n"
     ]
    },
    {
     "name": "stderr",
     "output_type": "stream",
     "text": [
      "100%|██████████| 3/3 [00:00<00:00, 32.92it/s]\n",
      "100%|██████████| 3/3 [00:00<00:00, 25.76it/s]\n",
      "  0%|          | 0/3 [00:00<?, ?it/s]"
     ]
    },
    {
     "name": "stdout",
     "output_type": "stream",
     "text": [
      "{'ner': 87.64267079780348}\n",
      "{'ner': 154.33101622168124}\n"
     ]
    },
    {
     "name": "stderr",
     "output_type": "stream",
     "text": [
      "100%|██████████| 3/3 [00:00<00:00, 24.25it/s]\n",
      "100%|██████████| 3/3 [00:00<00:00, 25.19it/s]\n",
      "  0%|          | 0/3 [00:00<?, ?it/s]"
     ]
    },
    {
     "name": "stdout",
     "output_type": "stream",
     "text": [
      "{'ner': 85.60195238917368}\n",
      "{'ner': 98.11111557652475}\n"
     ]
    },
    {
     "name": "stderr",
     "output_type": "stream",
     "text": [
      "100%|██████████| 3/3 [00:00<00:00, 20.52it/s]\n",
      "100%|██████████| 3/3 [00:00<00:00, 23.75it/s]\n",
      "  0%|          | 0/3 [00:00<?, ?it/s]"
     ]
    },
    {
     "name": "stdout",
     "output_type": "stream",
     "text": [
      "{'ner': 89.67356241576272}\n",
      "{'ner': 138.41506295470754}\n"
     ]
    },
    {
     "name": "stderr",
     "output_type": "stream",
     "text": [
      "100%|██████████| 3/3 [00:00<00:00, 29.93it/s]\n",
      "100%|██████████| 3/3 [00:00<00:00, 23.82it/s]\n",
      "  0%|          | 0/3 [00:00<?, ?it/s]"
     ]
    },
    {
     "name": "stdout",
     "output_type": "stream",
     "text": [
      "{'ner': 91.06874082237482}\n",
      "{'ner': 82.76685599552002}\n"
     ]
    },
    {
     "name": "stderr",
     "output_type": "stream",
     "text": [
      "100%|██████████| 3/3 [00:00<00:00, 24.77it/s]\n",
      "100%|██████████| 3/3 [00:00<00:00, 25.38it/s]\n",
      "  0%|          | 0/3 [00:00<?, ?it/s]"
     ]
    },
    {
     "name": "stdout",
     "output_type": "stream",
     "text": [
      "{'ner': 99.66212982989964}\n",
      "{'ner': 104.08146331831813}\n"
     ]
    },
    {
     "name": "stderr",
     "output_type": "stream",
     "text": [
      "100%|██████████| 3/3 [00:00<00:00, 24.58it/s]\n",
      "100%|██████████| 3/3 [00:00<00:00, 32.25it/s]\n",
      "  0%|          | 0/3 [00:00<?, ?it/s]"
     ]
    },
    {
     "name": "stdout",
     "output_type": "stream",
     "text": [
      "{'ner': 64.33493243530393}\n",
      "{'ner': 47.04417523368829}\n"
     ]
    },
    {
     "name": "stderr",
     "output_type": "stream",
     "text": [
      "100%|██████████| 3/3 [00:00<00:00, 22.41it/s]\n",
      "100%|██████████| 3/3 [00:00<00:00, 24.70it/s]\n",
      "  0%|          | 0/3 [00:00<?, ?it/s]"
     ]
    },
    {
     "name": "stdout",
     "output_type": "stream",
     "text": [
      "{'ner': 73.65696304379571}\n",
      "{'ner': 47.1864610208803}\n"
     ]
    },
    {
     "name": "stderr",
     "output_type": "stream",
     "text": [
      "100%|██████████| 3/3 [00:00<00:00, 24.28it/s]\n",
      "100%|██████████| 3/3 [00:00<00:00, 26.74it/s]\n",
      "  0%|          | 0/3 [00:00<?, ?it/s]"
     ]
    },
    {
     "name": "stdout",
     "output_type": "stream",
     "text": [
      "{'ner': 61.81616282324428}\n",
      "{'ner': 76.84656662009513}\n"
     ]
    },
    {
     "name": "stderr",
     "output_type": "stream",
     "text": [
      "100%|██████████| 3/3 [00:00<00:00, 22.48it/s]\n",
      "100%|██████████| 3/3 [00:00<00:00, 34.15it/s]\n",
      "100%|██████████| 3/3 [00:00<00:00, 30.82it/s]\n",
      "  0%|          | 0/3 [00:00<?, ?it/s]"
     ]
    },
    {
     "name": "stdout",
     "output_type": "stream",
     "text": [
      "{'ner': 44.82531538285707}\n",
      "{'ner': 87.60506242966949}\n",
      "{'ner': 80.68257015047129}\n"
     ]
    },
    {
     "name": "stderr",
     "output_type": "stream",
     "text": [
      "100%|██████████| 3/3 [00:00<00:00, 21.92it/s]\n",
      "100%|██████████| 3/3 [00:00<00:00, 23.83it/s]\n",
      "  0%|          | 0/3 [00:00<?, ?it/s]"
     ]
    },
    {
     "name": "stdout",
     "output_type": "stream",
     "text": [
      "{'ner': 80.57005301618483}\n",
      "{'ner': 78.76533224992454}\n"
     ]
    },
    {
     "name": "stderr",
     "output_type": "stream",
     "text": [
      "100%|██████████| 3/3 [00:00<00:00, 24.62it/s]\n",
      "100%|██████████| 3/3 [00:00<00:00, 26.48it/s]\n",
      "  0%|          | 0/3 [00:00<?, ?it/s]"
     ]
    },
    {
     "name": "stdout",
     "output_type": "stream",
     "text": [
      "{'ner': 79.46030806389172}\n",
      "{'ner': 133.01470104977489}\n"
     ]
    },
    {
     "name": "stderr",
     "output_type": "stream",
     "text": [
      "100%|██████████| 3/3 [00:00<00:00, 27.27it/s]\n",
      "100%|██████████| 3/3 [00:00<00:00, 36.26it/s]\n",
      "100%|██████████| 3/3 [00:00<00:00, 27.24it/s]\n",
      "  0%|          | 0/3 [00:00<?, ?it/s]"
     ]
    },
    {
     "name": "stdout",
     "output_type": "stream",
     "text": [
      "{'ner': 84.17935558082536}\n",
      "{'ner': 95.42639664560556}\n",
      "{'ner': 51.844050780986436}\n"
     ]
    },
    {
     "name": "stderr",
     "output_type": "stream",
     "text": [
      "100%|██████████| 3/3 [00:00<00:00, 24.96it/s]\n",
      "100%|██████████| 3/3 [00:00<00:00, 29.67it/s]\n",
      "  0%|          | 0/3 [00:00<?, ?it/s]"
     ]
    },
    {
     "name": "stdout",
     "output_type": "stream",
     "text": [
      "{'ner': 50.54589001072054}\n",
      "{'ner': 78.02586222711261}\n"
     ]
    },
    {
     "name": "stderr",
     "output_type": "stream",
     "text": [
      "100%|██████████| 3/3 [00:00<00:00, 22.36it/s]\n",
      "100%|██████████| 3/3 [00:00<00:00, 30.25it/s]\n",
      "  0%|          | 0/3 [00:00<?, ?it/s]"
     ]
    },
    {
     "name": "stdout",
     "output_type": "stream",
     "text": [
      "{'ner': 143.78617316800705}\n",
      "{'ner': 129.35256683797343}\n"
     ]
    },
    {
     "name": "stderr",
     "output_type": "stream",
     "text": [
      "100%|██████████| 3/3 [00:00<00:00, 26.35it/s]\n",
      "100%|██████████| 3/3 [00:00<00:00, 26.76it/s]\n",
      "100%|██████████| 3/3 [00:00<00:00, 37.82it/s]\n",
      "  0%|          | 0/3 [00:00<?, ?it/s]"
     ]
    },
    {
     "name": "stdout",
     "output_type": "stream",
     "text": [
      "{'ner': 104.60797609620931}\n",
      "{'ner': 123.64322138467105}\n",
      "{'ner': 105.2860665814951}\n"
     ]
    },
    {
     "name": "stderr",
     "output_type": "stream",
     "text": [
      "100%|██████████| 3/3 [00:00<00:00, 29.04it/s]\n",
      "100%|██████████| 3/3 [00:00<00:00, 27.70it/s]\n",
      "  0%|          | 0/3 [00:00<?, ?it/s]"
     ]
    },
    {
     "name": "stdout",
     "output_type": "stream",
     "text": [
      "{'ner': 66.55879932899552}\n",
      "{'ner': 80.41268239432247}\n"
     ]
    },
    {
     "name": "stderr",
     "output_type": "stream",
     "text": [
      "100%|██████████| 3/3 [00:00<00:00, 22.01it/s]\n",
      "100%|██████████| 3/3 [00:00<00:00, 27.04it/s]\n",
      "  0%|          | 0/3 [00:00<?, ?it/s]"
     ]
    },
    {
     "name": "stdout",
     "output_type": "stream",
     "text": [
      "{'ner': 85.4123659664765}\n",
      "{'ner': 120.14208791601413}\n"
     ]
    },
    {
     "name": "stderr",
     "output_type": "stream",
     "text": [
      "100%|██████████| 3/3 [00:00<00:00, 31.50it/s]\n",
      "100%|██████████| 3/3 [00:00<00:00, 25.27it/s]\n",
      "  0%|          | 0/3 [00:00<?, ?it/s]"
     ]
    },
    {
     "name": "stdout",
     "output_type": "stream",
     "text": [
      "{'ner': 96.74890151247382}\n",
      "{'ner': 69.84842493066208}\n"
     ]
    },
    {
     "name": "stderr",
     "output_type": "stream",
     "text": [
      "100%|██████████| 3/3 [00:00<00:00, 28.60it/s]\n",
      "100%|██████████| 3/3 [00:00<00:00, 28.47it/s]\n",
      "100%|██████████| 3/3 [00:00<00:00, 33.80it/s]\n",
      "  0%|          | 0/3 [00:00<?, ?it/s]"
     ]
    },
    {
     "name": "stdout",
     "output_type": "stream",
     "text": [
      "{'ner': 53.79269109354209}\n",
      "{'ner': 40.57497324762613}\n",
      "{'ner': 35.78498177113829}\n"
     ]
    },
    {
     "name": "stderr",
     "output_type": "stream",
     "text": [
      "100%|██████████| 3/3 [00:00<00:00, 23.38it/s]\n",
      "100%|██████████| 3/3 [00:00<00:00, 27.84it/s]\n",
      "  0%|          | 0/3 [00:00<?, ?it/s]"
     ]
    },
    {
     "name": "stdout",
     "output_type": "stream",
     "text": [
      "{'ner': 78.3087665102266}\n",
      "{'ner': 62.79191888396144}\n"
     ]
    },
    {
     "name": "stderr",
     "output_type": "stream",
     "text": [
      "100%|██████████| 3/3 [00:00<00:00, 25.68it/s]\n",
      "100%|██████████| 3/3 [00:00<00:00, 26.40it/s]\n",
      "  0%|          | 0/3 [00:00<?, ?it/s]"
     ]
    },
    {
     "name": "stdout",
     "output_type": "stream",
     "text": [
      "{'ner': 47.62905677067912}\n",
      "{'ner': 48.662946762551094}\n"
     ]
    },
    {
     "name": "stderr",
     "output_type": "stream",
     "text": [
      "100%|██████████| 3/3 [00:00<00:00, 27.41it/s]\n",
      "100%|██████████| 3/3 [00:00<00:00, 30.34it/s]\n",
      "  0%|          | 0/3 [00:00<?, ?it/s]"
     ]
    },
    {
     "name": "stdout",
     "output_type": "stream",
     "text": [
      "{'ner': 79.33124159835165}\n",
      "{'ner': 110.22114375087466}\n"
     ]
    },
    {
     "name": "stderr",
     "output_type": "stream",
     "text": [
      "100%|██████████| 3/3 [00:00<00:00, 23.81it/s]\n",
      "100%|██████████| 3/3 [00:00<00:00, 28.25it/s]\n",
      "  0%|          | 0/3 [00:00<?, ?it/s]"
     ]
    },
    {
     "name": "stdout",
     "output_type": "stream",
     "text": [
      "{'ner': 51.86813339282958}\n",
      "{'ner': 53.31076683925858}\n"
     ]
    },
    {
     "name": "stderr",
     "output_type": "stream",
     "text": [
      "100%|██████████| 3/3 [00:00<00:00, 26.39it/s]\n",
      "100%|██████████| 3/3 [00:00<00:00, 28.04it/s]\n",
      "  0%|          | 0/3 [00:00<?, ?it/s]"
     ]
    },
    {
     "name": "stdout",
     "output_type": "stream",
     "text": [
      "{'ner': 46.3547427306263}\n",
      "{'ner': 91.95859729203289}\n"
     ]
    },
    {
     "name": "stderr",
     "output_type": "stream",
     "text": [
      "100%|██████████| 3/3 [00:00<00:00, 25.71it/s]\n",
      "100%|██████████| 3/3 [00:00<00:00, 29.96it/s]\n",
      "  0%|          | 0/3 [00:00<?, ?it/s]"
     ]
    },
    {
     "name": "stdout",
     "output_type": "stream",
     "text": [
      "{'ner': 90.95854036373726}\n",
      "{'ner': 87.32993695530467}\n"
     ]
    },
    {
     "name": "stderr",
     "output_type": "stream",
     "text": [
      "100%|██████████| 3/3 [00:00<00:00, 28.26it/s]\n",
      "100%|██████████| 3/3 [00:00<00:00, 27.20it/s]\n",
      "  0%|          | 0/3 [00:00<?, ?it/s]"
     ]
    },
    {
     "name": "stdout",
     "output_type": "stream",
     "text": [
      "{'ner': 92.29376578629308}\n",
      "{'ner': 94.126554461458}\n"
     ]
    },
    {
     "name": "stderr",
     "output_type": "stream",
     "text": [
      "100%|██████████| 3/3 [00:00<00:00, 28.35it/s]\n",
      "100%|██████████| 3/3 [00:00<00:00, 23.16it/s]\n",
      "  0%|          | 0/3 [00:00<?, ?it/s]"
     ]
    },
    {
     "name": "stdout",
     "output_type": "stream",
     "text": [
      "{'ner': 51.650695638112666}\n",
      "{'ner': 61.534294745275474}\n"
     ]
    },
    {
     "name": "stderr",
     "output_type": "stream",
     "text": [
      "100%|██████████| 3/3 [00:00<00:00, 29.80it/s]\n",
      "100%|██████████| 3/3 [00:00<00:00, 28.89it/s]\n",
      "  0%|          | 0/3 [00:00<?, ?it/s]"
     ]
    },
    {
     "name": "stdout",
     "output_type": "stream",
     "text": [
      "{'ner': 46.2368132521533}\n",
      "{'ner': 105.24726819402349}\n"
     ]
    },
    {
     "name": "stderr",
     "output_type": "stream",
     "text": [
      "100%|██████████| 3/3 [00:00<00:00, 25.69it/s]\n",
      "100%|██████████| 3/3 [00:00<00:00, 24.45it/s]\n",
      "  0%|          | 0/3 [00:00<?, ?it/s]"
     ]
    },
    {
     "name": "stdout",
     "output_type": "stream",
     "text": [
      "{'ner': 99.55394337201142}\n",
      "{'ner': 114.32501818091794}\n"
     ]
    },
    {
     "name": "stderr",
     "output_type": "stream",
     "text": [
      "100%|██████████| 3/3 [00:00<00:00, 22.56it/s]\n",
      "100%|██████████| 3/3 [00:00<00:00, 26.29it/s]\n",
      "  0%|          | 0/3 [00:00<?, ?it/s]"
     ]
    },
    {
     "name": "stdout",
     "output_type": "stream",
     "text": [
      "{'ner': 81.2711661132198}\n",
      "{'ner': 74.4354993555753}\n"
     ]
    },
    {
     "name": "stderr",
     "output_type": "stream",
     "text": [
      "\r",
      "100%|██████████| 3/3 [00:00<00:00, 25.56it/s]"
     ]
    },
    {
     "name": "stdout",
     "output_type": "stream",
     "text": [
      "{'ner': 91.2843675234626}\n"
     ]
    },
    {
     "name": "stderr",
     "output_type": "stream",
     "text": [
      "\n"
     ]
    }
   ],
   "source": [
    "# add labels, Trains data based on annotations \n",
    "for _, annotations in TRAIN_DATA:\n",
    "    for ent in annotations.get('entities'):\n",
    "        ner.add_label(ent[2])\n",
    "\n",
    "    # get names of other pipes to disable them during training\n",
    "other_pipes = [pipe for pipe in ner_model.pipe_names if pipe != 'ner']\n",
    "with ner_model.disable_pipes(*other_pipes):  # only train NER\n",
    "    optimizer = ner_model.begin_training()\n",
    "    for itn in range(n_iter):\n",
    "        random.shuffle(TRAIN_DATA)\n",
    "        losses = {}\n",
    "        for text, annotations in tqdm(TRAIN_DATA):\n",
    "            ner_model.update(\n",
    "                [text],  # batch of texts\n",
    "                [annotations],  # batch of annotations\n",
    "                drop=0.5,  # dropout - make it harder to memorise data\n",
    "                sgd=optimizer,  # callable to update weights\n",
    "                losses=losses)\n",
    "        print(losses)"
   ]
  },
  {
   "cell_type": "markdown",
   "metadata": {},
   "source": [
    "### First Annotated Text\n",
    "- Model correctly identifies the location\n",
    "- Marks the rest of the text as the product which is incorrect"
   ]
  },
  {
   "cell_type": "code",
   "execution_count": 35,
   "metadata": {},
   "outputs": [
    {
     "name": "stdout",
     "output_type": "stream",
     "text": [
      "Entities [('USA-OH', 'LOCATION'), (\"Valve index full kit http://imgur.com/gallery/hcNYf9a  Selling my Valve index kit. It's practically new, only used twice and I've only owned it for a little over 2 weeks. Turns out VR isn't really for me. Asking $900 plus shipping. Please comment before you PM. Merry Christmas!   SOLD FOR ASKING\", 'PRODUCT')]\n"
     ]
    }
   ],
   "source": [
    "# test the trained model\n",
    "for text, _ in TRAIN_DATA:\n",
    "    doc = ner_model(x)\n",
    "    print('Entities', [(ent.text, ent.label_) for ent in doc.ents])"
   ]
  },
  {
   "cell_type": "code",
   "execution_count": 36,
   "metadata": {},
   "outputs": [
    {
     "data": {
      "text/html": [
       "<div class=\"entities\" style=\"line-height: 2.5; direction: ltr\">\n",
       "<mark class=\"entity\" style=\"background: #ddd; padding: 0.45em 0.6em; margin: 0 0.25em; line-height: 1; border-radius: 0.35em;\">\n",
       "    USA-OH\n",
       "    <span style=\"font-size: 0.8em; font-weight: bold; line-height: 1; border-radius: 0.35em; text-transform: uppercase; vertical-align: middle; margin-left: 0.5rem\">LOCATION</span>\n",
       "</mark>\n",
       "  \n",
       "<mark class=\"entity\" style=\"background: #bfeeb7; padding: 0.45em 0.6em; margin: 0 0.25em; line-height: 1; border-radius: 0.35em;\">\n",
       "    Valve index full kit http://imgur.com/gallery/hcNYf9a  Selling my Valve index kit. It's practically new, only used twice and I've only owned it for a little over 2 weeks. Turns out VR isn't really for me. Asking $900 plus shipping. Please comment before you PM. Merry Christmas!   SOLD FOR ASKING\n",
       "    <span style=\"font-size: 0.8em; font-weight: bold; line-height: 1; border-radius: 0.35em; text-transform: uppercase; vertical-align: middle; margin-left: 0.5rem\">PRODUCT</span>\n",
       "</mark>\n",
       "</div>"
      ],
      "text/plain": [
       "<IPython.core.display.HTML object>"
      ]
     },
     "metadata": {},
     "output_type": "display_data"
    }
   ],
   "source": [
    "spacy.displacy.render(doc, style='ent', jupyter=True)"
   ]
  },
  {
   "cell_type": "markdown",
   "metadata": {},
   "source": [
    "## Second Annotated Text\n",
    "- Identifies Location, Price, URL and USERNAME correctly\n",
    "- Once again lables product incorrectly"
   ]
  },
  {
   "cell_type": "code",
   "execution_count": 66,
   "metadata": {},
   "outputs": [
    {
     "name": "stdout",
     "output_type": "stream",
     "text": [
      "Entities [('USA-OH', 'LOCATION'), ('MSI Armor RX 580 4GB Used for about 4 5 months and is very clean basically no dust on it. Looking for $', 'PRODUCT'), ('$80', 'PRICE'), ('https://imgur.com/6fJCDXH', 'URL'), ('/u/oswwwald', 'USERNAME')]\n",
      "Entities [('USA-OH', 'LOCATION'), ('MSI Armor RX 580 4GB Used for about 4 5 months and is very clean basically no dust on it. Looking for $', 'PRODUCT'), ('$80', 'PRICE'), ('https://imgur.com/6fJCDXH', 'URL'), ('/u/oswwwald', 'USERNAME')]\n"
     ]
    }
   ],
   "source": [
    "# test the trained model\n",
    "for text, _ in TRAIN_DATA:\n",
    "    doc = ner_model(y)\n",
    "    print('Entities', [(ent.text, ent.label_) for ent in doc.ents])"
   ]
  },
  {
   "cell_type": "code",
   "execution_count": 67,
   "metadata": {},
   "outputs": [
    {
     "data": {
      "text/html": [
       "<div class=\"entities\" style=\"line-height: 2.5; direction: ltr\">\n",
       "<mark class=\"entity\" style=\"background: #ddd; padding: 0.45em 0.6em; margin: 0 0.25em; line-height: 1; border-radius: 0.35em;\">\n",
       "    USA-OH\n",
       "    <span style=\"font-size: 0.8em; font-weight: bold; line-height: 1; border-radius: 0.35em; text-transform: uppercase; vertical-align: middle; margin-left: 0.5rem\">LOCATION</span>\n",
       "</mark>\n",
       " \n",
       "<mark class=\"entity\" style=\"background: #bfeeb7; padding: 0.45em 0.6em; margin: 0 0.25em; line-height: 1; border-radius: 0.35em;\">\n",
       "    MSI Armor RX 580 4GB Used for about 4 5 months and is very clean basically no dust on it. Looking for $\n",
       "    <span style=\"font-size: 0.8em; font-weight: bold; line-height: 1; border-radius: 0.35em; text-transform: uppercase; vertical-align: middle; margin-left: 0.5rem\">PRODUCT</span>\n",
       "</mark>\n",
       "90 shipped or \n",
       "<mark class=\"entity\" style=\"background: #ddd; padding: 0.45em 0.6em; margin: 0 0.25em; line-height: 1; border-radius: 0.35em;\">\n",
       "    $80\n",
       "    <span style=\"font-size: 0.8em; font-weight: bold; line-height: 1; border-radius: 0.35em; text-transform: uppercase; vertical-align: middle; margin-left: 0.5rem\">PRICE</span>\n",
       "</mark>\n",
       " local. Thanks \n",
       "<mark class=\"entity\" style=\"background: #ddd; padding: 0.45em 0.6em; margin: 0 0.25em; line-height: 1; border-radius: 0.35em;\">\n",
       "    https://imgur.com/6fJCDXH\n",
       "    <span style=\"font-size: 0.8em; font-weight: bold; line-height: 1; border-radius: 0.35em; text-transform: uppercase; vertical-align: middle; margin-left: 0.5rem\">URL</span>\n",
       "</mark>\n",
       "  Sold to \n",
       "<mark class=\"entity\" style=\"background: #ddd; padding: 0.45em 0.6em; margin: 0 0.25em; line-height: 1; border-radius: 0.35em;\">\n",
       "    /u/oswwwald\n",
       "    <span style=\"font-size: 0.8em; font-weight: bold; line-height: 1; border-radius: 0.35em; text-transform: uppercase; vertical-align: middle; margin-left: 0.5rem\">USERNAME</span>\n",
       "</mark>\n",
       "</div>"
      ],
      "text/plain": [
       "<IPython.core.display.HTML object>"
      ]
     },
     "metadata": {},
     "output_type": "display_data"
    }
   ],
   "source": [
    "spacy.displacy.render(doc, style='ent', jupyter=True)"
   ]
  },
  {
   "cell_type": "markdown",
   "metadata": {},
   "source": [
    "### Third Annotated Text\n",
    "- Location, Price, URL are labled correctly\n",
    "- Product for the most part is labled correctly\n",
    "- Condition included the correct text, but also the specs which is inncorrect "
   ]
  },
  {
   "cell_type": "code",
   "execution_count": 94,
   "metadata": {},
   "outputs": [
    {
     "name": "stdout",
     "output_type": "stream",
     "text": [
      "Entities [('USA-OH', 'LOCATION'), ('MSI Prestige PE62VR 7RF-836 Laptop Selling my', 'PRODUCT'), ('MSI Prestige PE62VR 7RF 836 laptop for', 'PRODUCT'), ('$650', 'PRICE'), ('https://imgur.com/UchSxvF', 'URL'), ('slightly used condition. No scratches on the screen and it runs great. Always used with a fan cooling pad underneath.  Specs:  Screen is 15.6\" Full HD IPS 1080p  CPU: i7 7700HQ  GPU: GTX 1060 6gb  RAM: 32gb  16gb2  DDR4 2133MHz', 'CONDITION')]\n",
      "Entities [('USA-OH', 'LOCATION'), ('MSI Prestige PE62VR 7RF-836 Laptop Selling my', 'PRODUCT'), ('MSI Prestige PE62VR 7RF 836 laptop for', 'PRODUCT'), ('$650', 'PRICE'), ('https://imgur.com/UchSxvF', 'URL'), ('slightly used condition. No scratches on the screen and it runs great. Always used with a fan cooling pad underneath.  Specs:  Screen is 15.6\" Full HD IPS 1080p  CPU: i7 7700HQ  GPU: GTX 1060 6gb  RAM: 32gb  16gb2  DDR4 2133MHz', 'CONDITION')]\n",
      "Entities [('USA-OH', 'LOCATION'), ('MSI Prestige PE62VR 7RF-836 Laptop Selling my', 'PRODUCT'), ('MSI Prestige PE62VR 7RF 836 laptop for', 'PRODUCT'), ('$650', 'PRICE'), ('https://imgur.com/UchSxvF', 'URL'), ('slightly used condition. No scratches on the screen and it runs great. Always used with a fan cooling pad underneath.  Specs:  Screen is 15.6\" Full HD IPS 1080p  CPU: i7 7700HQ  GPU: GTX 1060 6gb  RAM: 32gb  16gb2  DDR4 2133MHz', 'CONDITION')]\n"
     ]
    }
   ],
   "source": [
    "# test the trained model\n",
    "for text, _ in TRAIN_DATA:\n",
    "    doc = ner_model(z)\n",
    "    print('Entities', [(ent.text, ent.label_) for ent in doc.ents])"
   ]
  },
  {
   "cell_type": "code",
   "execution_count": 95,
   "metadata": {},
   "outputs": [
    {
     "data": {
      "text/html": [
       "<div class=\"entities\" style=\"line-height: 2.5; direction: ltr\">\n",
       "<mark class=\"entity\" style=\"background: #ddd; padding: 0.45em 0.6em; margin: 0 0.25em; line-height: 1; border-radius: 0.35em;\">\n",
       "    USA-OH\n",
       "    <span style=\"font-size: 0.8em; font-weight: bold; line-height: 1; border-radius: 0.35em; text-transform: uppercase; vertical-align: middle; margin-left: 0.5rem\">LOCATION</span>\n",
       "</mark>\n",
       "  \n",
       "<mark class=\"entity\" style=\"background: #bfeeb7; padding: 0.45em 0.6em; margin: 0 0.25em; line-height: 1; border-radius: 0.35em;\">\n",
       "    MSI Prestige PE62VR 7RF-836 Laptop Selling my\n",
       "    <span style=\"font-size: 0.8em; font-weight: bold; line-height: 1; border-radius: 0.35em; text-transform: uppercase; vertical-align: middle; margin-left: 0.5rem\">PRODUCT</span>\n",
       "</mark>\n",
       " \n",
       "<mark class=\"entity\" style=\"background: #bfeeb7; padding: 0.45em 0.6em; margin: 0 0.25em; line-height: 1; border-radius: 0.35em;\">\n",
       "    MSI Prestige PE62VR 7RF 836 laptop for\n",
       "    <span style=\"font-size: 0.8em; font-weight: bold; line-height: 1; border-radius: 0.35em; text-transform: uppercase; vertical-align: middle; margin-left: 0.5rem\">PRODUCT</span>\n",
       "</mark>\n",
       " \n",
       "<mark class=\"entity\" style=\"background: #ddd; padding: 0.45em 0.6em; margin: 0 0.25em; line-height: 1; border-radius: 0.35em;\">\n",
       "    $650\n",
       "    <span style=\"font-size: 0.8em; font-weight: bold; line-height: 1; border-radius: 0.35em; text-transform: uppercase; vertical-align: middle; margin-left: 0.5rem\">PRICE</span>\n",
       "</mark>\n",
       " OBO or a Higher end graphics card  Timestamp:  \n",
       "<mark class=\"entity\" style=\"background: #ddd; padding: 0.45em 0.6em; margin: 0 0.25em; line-height: 1; border-radius: 0.35em;\">\n",
       "    https://imgur.com/UchSxvF\n",
       "    <span style=\"font-size: 0.8em; font-weight: bold; line-height: 1; border-radius: 0.35em; text-transform: uppercase; vertical-align: middle; margin-left: 0.5rem\">URL</span>\n",
       "</mark>\n",
       "   In a well taken care of, \n",
       "<mark class=\"entity\" style=\"background: #ddd; padding: 0.45em 0.6em; margin: 0 0.25em; line-height: 1; border-radius: 0.35em;\">\n",
       "    slightly used condition. No scratches on the screen and it runs great. Always used with a fan cooling pad underneath.  Specs:  Screen is 15.6&quot; Full HD IPS 1080p  CPU: i7 7700HQ  GPU: GTX 1060 6gb  RAM: 32gb  16gb2  DDR4 2133MHz\n",
       "    <span style=\"font-size: 0.8em; font-weight: bold; line-height: 1; border-radius: 0.35em; text-transform: uppercase; vertical-align: middle; margin-left: 0.5rem\">CONDITION</span>\n",
       "</mark>\n",
       "</div>"
      ],
      "text/plain": [
       "<IPython.core.display.HTML object>"
      ]
     },
     "metadata": {},
     "output_type": "display_data"
    }
   ],
   "source": [
    "spacy.displacy.render(doc, style='ent', jupyter=True)"
   ]
  },
  {
   "cell_type": "markdown",
   "metadata": {},
   "source": [
    "### Testing on unseen data \n",
    "- Labels Location, Product correctly\n",
    "- Lables 1/2 url's correctly \n",
    "\n",
    "This is pretty impressive considering this model has only had 3 training texts to make these predictions "
   ]
  },
  {
   "cell_type": "code",
   "execution_count": 96,
   "metadata": {},
   "outputs": [],
   "source": [
    "a = data[2]"
   ]
  },
  {
   "cell_type": "code",
   "execution_count": 97,
   "metadata": {},
   "outputs": [
    {
     "name": "stdout",
     "output_type": "stream",
     "text": [
      "Entities [('USA-IL', 'LOCATION'), ('Bose SoundSport Free  ', 'PRODUCT'), ('here', 'URL'), ('https://imgur.com/bMnWAId', 'URL')]\n",
      "Entities [('USA-IL', 'LOCATION'), ('Bose SoundSport Free  ', 'PRODUCT'), ('here', 'URL'), ('https://imgur.com/bMnWAId', 'URL')]\n",
      "Entities [('USA-IL', 'LOCATION'), ('Bose SoundSport Free  ', 'PRODUCT'), ('here', 'URL'), ('https://imgur.com/bMnWAId', 'URL')]\n"
     ]
    }
   ],
   "source": [
    "# test the trained model\n",
    "for text, _ in TRAIN_DATA:\n",
    "    doc = ner_model(a)\n",
    "    print('Entities', [(ent.text, ent.label_) for ent in doc.ents])"
   ]
  },
  {
   "cell_type": "code",
   "execution_count": 98,
   "metadata": {},
   "outputs": [
    {
     "data": {
      "text/html": [
       "<div class=\"entities\" style=\"line-height: 2.5; direction: ltr\">\n",
       "<mark class=\"entity\" style=\"background: #ddd; padding: 0.45em 0.6em; margin: 0 0.25em; line-height: 1; border-radius: 0.35em;\">\n",
       "    USA-IL\n",
       "    <span style=\"font-size: 0.8em; font-weight: bold; line-height: 1; border-radius: 0.35em; text-transform: uppercase; vertical-align: middle; margin-left: 0.5rem\">LOCATION</span>\n",
       "</mark>\n",
       "  \n",
       "<mark class=\"entity\" style=\"background: #bfeeb7; padding: 0.45em 0.6em; margin: 0 0.25em; line-height: 1; border-radius: 0.35em;\">\n",
       "    Bose SoundSport Free  \n",
       "    <span style=\"font-size: 0.8em; font-weight: bold; line-height: 1; border-radius: 0.35em; text-transform: uppercase; vertical-align: middle; margin-left: 0.5rem\">PRODUCT</span>\n",
       "</mark>\n",
       "Timestamps \n",
       "<mark class=\"entity\" style=\"background: #ddd; padding: 0.45em 0.6em; margin: 0 0.25em; line-height: 1; border-radius: 0.35em;\">\n",
       "    here\n",
       "    <span style=\"font-size: 0.8em; font-weight: bold; line-height: 1; border-radius: 0.35em; text-transform: uppercase; vertical-align: middle; margin-left: 0.5rem\">URL</span>\n",
       "</mark>\n",
       "  \n",
       "<mark class=\"entity\" style=\"background: #ddd; padding: 0.45em 0.6em; margin: 0 0.25em; line-height: 1; border-radius: 0.35em;\">\n",
       "    https://imgur.com/bMnWAId\n",
       "    <span style=\"font-size: 0.8em; font-weight: bold; line-height: 1; border-radius: 0.35em; text-transform: uppercase; vertical-align: middle; margin-left: 0.5rem\">URL</span>\n",
       "</mark>\n",
       "   Brand New, SEALED Bose SoundSport Free in Black.  125 SHIPPED</div>"
      ],
      "text/plain": [
       "<IPython.core.display.HTML object>"
      ]
     },
     "metadata": {},
     "output_type": "display_data"
    }
   ],
   "source": [
    "spacy.displacy.render(doc, style='ent', jupyter=True)"
   ]
  },
  {
   "cell_type": "code",
   "execution_count": null,
   "metadata": {},
   "outputs": [],
   "source": []
  }
 ],
 "metadata": {
  "kernelspec": {
   "display_name": "learn-env",
   "language": "python",
   "name": "learn-env"
  },
  "language_info": {
   "codemirror_mode": {
    "name": "ipython",
    "version": 3
   },
   "file_extension": ".py",
   "mimetype": "text/x-python",
   "name": "python",
   "nbconvert_exporter": "python",
   "pygments_lexer": "ipython3",
   "version": "3.7.3"
  }
 },
 "nbformat": 4,
 "nbformat_minor": 2
}
