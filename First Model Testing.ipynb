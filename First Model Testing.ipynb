{
 "cells": [
  {
   "cell_type": "code",
   "execution_count": 1,
   "metadata": {},
   "outputs": [],
   "source": [
    "import numpy as np\n",
    "import pandas as pd\n",
    "import spacy\n",
    "import re"
   ]
  },
  {
   "cell_type": "code",
   "execution_count": 2,
   "metadata": {},
   "outputs": [],
   "source": [
    "nlp = spacy.load(\"en_core_web_sm\")"
   ]
  },
  {
   "cell_type": "code",
   "execution_count": 3,
   "metadata": {},
   "outputs": [],
   "source": [
    "# import Data \n",
    "df = pd.read_csv('hardwareswap_data.csv')\n",
    "df.drop('Unnamed: 0', axis=1, inplace=True)"
   ]
  },
  {
   "cell_type": "code",
   "execution_count": 4,
   "metadata": {},
   "outputs": [
    {
     "data": {
      "text/html": [
       "<div>\n",
       "<style scoped>\n",
       "    .dataframe tbody tr th:only-of-type {\n",
       "        vertical-align: middle;\n",
       "    }\n",
       "\n",
       "    .dataframe tbody tr th {\n",
       "        vertical-align: top;\n",
       "    }\n",
       "\n",
       "    .dataframe thead th {\n",
       "        text-align: right;\n",
       "    }\n",
       "</style>\n",
       "<table border=\"1\" class=\"dataframe\">\n",
       "  <thead>\n",
       "    <tr style=\"text-align: right;\">\n",
       "      <th></th>\n",
       "      <th>id</th>\n",
       "      <th>date</th>\n",
       "      <th>title</th>\n",
       "      <th>text</th>\n",
       "      <th>direction</th>\n",
       "      <th>author</th>\n",
       "      <th>link</th>\n",
       "    </tr>\n",
       "  </thead>\n",
       "  <tbody>\n",
       "    <tr>\n",
       "      <th>0</th>\n",
       "      <td>ef71ph</td>\n",
       "      <td>12/24/2019</td>\n",
       "      <td>[USA-CA] [H] Tower 900 Snow Edition [W] Local ...</td>\n",
       "      <td>Local: anywhere in San Diego, can drive up to ...</td>\n",
       "      <td>BUYING</td>\n",
       "      <td>SolidGreenDay</td>\n",
       "      <td>/r/hardwareswap/comments/ef71ph/usaca_h_tower_...</td>\n",
       "    </tr>\n",
       "    <tr>\n",
       "      <th>1</th>\n",
       "      <td>ef6tmq</td>\n",
       "      <td>12/24/2019</td>\n",
       "      <td>[USA-TX] [H] Nintendo Switch, Smash Ultimate, ...</td>\n",
       "      <td>~~hey guys, i got this switch up for grabs, th...</td>\n",
       "      <td>SELLING</td>\n",
       "      <td>johnshop</td>\n",
       "      <td>/r/hardwareswap/comments/ef6tmq/usatx_h_ninten...</td>\n",
       "    </tr>\n",
       "    <tr>\n",
       "      <th>2</th>\n",
       "      <td>ef6t5z</td>\n",
       "      <td>12/24/2019</td>\n",
       "      <td>[USA-CA][H] Sony WH1000XM3 Noise Canceling Hea...</td>\n",
       "      <td>WH1000XM3 (Black) - $170 shipped\\n\\nGalaxy Bud...</td>\n",
       "      <td>SELLING</td>\n",
       "      <td>babyaced</td>\n",
       "      <td>/r/hardwareswap/comments/ef6t5z/usacah_sony_wh...</td>\n",
       "    </tr>\n",
       "    <tr>\n",
       "      <th>3</th>\n",
       "      <td>ef6sau</td>\n",
       "      <td>12/24/2019</td>\n",
       "      <td>[USA-SD] [H] Dell s2417dg, Razer Leviathan, An...</td>\n",
       "      <td>Hi All, I am, looking to sell some items that ...</td>\n",
       "      <td>SELLING</td>\n",
       "      <td>B0rf_</td>\n",
       "      <td>/r/hardwareswap/comments/ef6sau/usasd_h_dell_s...</td>\n",
       "    </tr>\n",
       "    <tr>\n",
       "      <th>4</th>\n",
       "      <td>ef6gns</td>\n",
       "      <td>12/24/2019</td>\n",
       "      <td>[USA-OH] [H] Valve index full kit [W] Paypal</td>\n",
       "      <td>http://imgur.com/gallery/hcNYf9a\\n\\nSelling my...</td>\n",
       "      <td>SELLING</td>\n",
       "      <td>HoochtheHero</td>\n",
       "      <td>/r/hardwareswap/comments/ef6gns/usaoh_h_valve_...</td>\n",
       "    </tr>\n",
       "  </tbody>\n",
       "</table>\n",
       "</div>"
      ],
      "text/plain": [
       "       id        date                                              title  \\\n",
       "0  ef71ph  12/24/2019  [USA-CA] [H] Tower 900 Snow Edition [W] Local ...   \n",
       "1  ef6tmq  12/24/2019  [USA-TX] [H] Nintendo Switch, Smash Ultimate, ...   \n",
       "2  ef6t5z  12/24/2019  [USA-CA][H] Sony WH1000XM3 Noise Canceling Hea...   \n",
       "3  ef6sau  12/24/2019  [USA-SD] [H] Dell s2417dg, Razer Leviathan, An...   \n",
       "4  ef6gns  12/24/2019       [USA-OH] [H] Valve index full kit [W] Paypal   \n",
       "\n",
       "                                                text direction         author  \\\n",
       "0  Local: anywhere in San Diego, can drive up to ...    BUYING  SolidGreenDay   \n",
       "1  ~~hey guys, i got this switch up for grabs, th...   SELLING       johnshop   \n",
       "2  WH1000XM3 (Black) - $170 shipped\\n\\nGalaxy Bud...   SELLING       babyaced   \n",
       "3  Hi All, I am, looking to sell some items that ...   SELLING          B0rf_   \n",
       "4  http://imgur.com/gallery/hcNYf9a\\n\\nSelling my...   SELLING   HoochtheHero   \n",
       "\n",
       "                                                link  \n",
       "0  /r/hardwareswap/comments/ef71ph/usaca_h_tower_...  \n",
       "1  /r/hardwareswap/comments/ef6tmq/usatx_h_ninten...  \n",
       "2  /r/hardwareswap/comments/ef6t5z/usacah_sony_wh...  \n",
       "3  /r/hardwareswap/comments/ef6sau/usasd_h_dell_s...  \n",
       "4  /r/hardwareswap/comments/ef6gns/usaoh_h_valve_...  "
      ]
     },
     "execution_count": 4,
     "metadata": {},
     "output_type": "execute_result"
    }
   ],
   "source": [
    "df.head()"
   ]
  },
  {
   "cell_type": "markdown",
   "metadata": {},
   "source": [
    "## First Model (testing / learning)"
   ]
  },
  {
   "cell_type": "code",
   "execution_count": 5,
   "metadata": {},
   "outputs": [],
   "source": [
    "# Load Packages\n",
    "from __future__ import unicode_literals, print_function\n",
    "\n",
    "import plac #  wrapper over argparse\n",
    "import random\n",
    "from pathlib import Path\n",
    "import spacy\n",
    "from tqdm import tqdm # loading bar"
   ]
  },
  {
   "cell_type": "code",
   "execution_count": 6,
   "metadata": {},
   "outputs": [],
   "source": [
    "# Specify Data For training \n",
    "buying = df[df['direction'] == 'SELLING']"
   ]
  },
  {
   "cell_type": "code",
   "execution_count": 28,
   "metadata": {},
   "outputs": [],
   "source": [
    "# All of the submission text to a list of text\n",
    "text = buying['text'].to_list()"
   ]
  },
  {
   "cell_type": "code",
   "execution_count": 40,
   "metadata": {},
   "outputs": [
    {
     "data": {
      "text/plain": [
       "\"~~hey guys, i got this switch up for grabs, the website is my switch patched shows that it is hackable, but i believe the latest update has been applied so may not be hackable anymore? i dont really know.\\n\\nI had given this to my son last xmass but then he asked for a laptop so in part payment he gave me the switch. under his possession he always had a screen protector in it. It does however have like 3 or 4 small scratches that are not visible while playing. The body overall has normal signs of use like light scratches and what not but nothing crazy. The games included are Smash Ultimate, Mariokart 8 Deluxe and Minecraft. It does have a new pair of joy cons because the old left one the bumper is bad, maybe an easy fix, but didn't bother and just bought another set. The old are included too. The battery seems to be holding a charge just fine. I just dont use it, rather play games on my pc as well.\\n\\nI do have the original box, and what i think is most of the accessories check pics for all the is included. \\n\\npictures: https://imgur.com/a/Rr3jRoJ\\n\\nLooking for 280  locally (HOUSTON- GALVESTON area) \\n\\nshipped looking for about 300 to cover shipping.  Rather sell locally so sort of firm on the shipped price.~~\\n\\nSOLD\""
      ]
     },
     "execution_count": 40,
     "metadata": {},
     "output_type": "execute_result"
    }
   ],
   "source": [
    "data_set[0]"
   ]
  },
  {
   "cell_type": "code",
   "execution_count": 11,
   "metadata": {},
   "outputs": [],
   "source": [
    "# Clean Data\n",
    "new_ds = []\n",
    "for line in data_set:\n",
    "    line = str(line)\n",
    "    line = line.replace('\\n', ' ')\n",
    "    line = line.replace('\\n\\n', ' ')\n",
    "    line = line.replace('\\n\\n\\n', ' ')\n",
    "    line = line.replace('&', ' ')\n",
    "    line = line.replace('#', '')\n",
    "    line = line.replace('x200B', ' ')\n",
    "    line = line.replace('[', ' ')\n",
    "    line = line.replace(']', ' ')\n",
    "    line = line.replace('(', ' ')\n",
    "    line = line.replace(')', ' ')\n",
    "    line = line.replace('|',' ')\n",
    "    line = line.replace(':-', '')\n",
    "    line = line.replace('~', '')\n",
    "    line = line.replace('~~', '')\n",
    "    line = line.replace('-', ' ')\n",
    "    line = line.replace('\\\\', '')\n",
    "    line = line.replace('*', '')\n",
    "    new_ds.append(line)"
   ]
  },
  {
   "cell_type": "code",
   "execution_count": 41,
   "metadata": {},
   "outputs": [],
   "source": [
    "# converts dataset into one big string \n",
    "x = ''\n",
    "for i in data_set[0]:\n",
    "    i = str(i)\n",
    "    x += i\n"
   ]
  },
  {
   "cell_type": "code",
   "execution_count": 42,
   "metadata": {
    "scrolled": true
   },
   "outputs": [
    {
     "data": {
      "text/plain": [
       "\"~~hey guys, i got this switch up for grabs, the website is my switch patched shows that it is hackable, but i believe the latest update has been applied so may not be hackable anymore? i dont really know.\\n\\nI had given this to my son last xmass but then he asked for a laptop so in part payment he gave me the switch. under his possession he always had a screen protector in it. It does however have like 3 or 4 small scratches that are not visible while playing. The body overall has normal signs of use like light scratches and what not but nothing crazy. The games included are Smash Ultimate, Mariokart 8 Deluxe and Minecraft. It does have a new pair of joy cons because the old left one the bumper is bad, maybe an easy fix, but didn't bother and just bought another set. The old are included too. The battery seems to be holding a charge just fine. I just dont use it, rather play games on my pc as well.\\n\\nI do have the original box, and what i think is most of the accessories check pics for all the is included. \\n\\npictures: https://imgur.com/a/Rr3jRoJ\\n\\nLooking for 280  locally (HOUSTON- GALVESTON area) \\n\\nshipped looking for about 300 to cover shipping.  Rather sell locally so sort of firm on the shipped price.~~\\n\\nSOLD\""
      ]
     },
     "execution_count": 42,
     "metadata": {},
     "output_type": "execute_result"
    }
   ],
   "source": [
    "x"
   ]
  },
  {
   "cell_type": "code",
   "execution_count": 89,
   "metadata": {},
   "outputs": [
    {
     "data": {
      "text/plain": [
       "[(1139, 1142)]"
      ]
     },
     "execution_count": 89,
     "metadata": {},
     "output_type": "execute_result"
    }
   ],
   "source": [
    "# Find Phrase in Text for training purposes \n",
    "[(m.start(0), m.end(0)) for m in re.finditer(product, x)]"
   ]
  },
  {
   "cell_type": "code",
   "execution_count": 97,
   "metadata": {},
   "outputs": [],
   "source": [
    "TRAIN_DATA = [\n",
    "    (x, {\n",
    "        'entities': [(23, 29, 'PRODUCT'), (62, 68, 'PRODUCT'), (309, 315, 'PRODUCT'), (411, 426, 'CONDITION'), (509, 524, 'CONDITION'), (1031, 1067, 'URL'),\n",
    "                    (1086, 1109, 'LOCATION'), (1072, 1084, 'LOCALPRICE')]\n",
    "    })\n",
    "#     (x, {\n",
    "#         'entities': [(411, 426, 'CONDITION'), (509, 524, 'CONDITION')]\n",
    "#     }),\n",
    "#     (x, {\n",
    "#         'entities': [(1031, 1067, 'URL')]\n",
    "#     })\n",
    "]\n"
   ]
  },
  {
   "cell_type": "code",
   "execution_count": 91,
   "metadata": {},
   "outputs": [],
   "source": [
    "# Define our variables\n",
    "model = None\n",
    "output_dir=Path(\"/Users/eric/Projects/Product-Named-Entity-Recognition/model\")\n",
    "n_iter=100"
   ]
  },
  {
   "cell_type": "code",
   "execution_count": 92,
   "metadata": {},
   "outputs": [
    {
     "name": "stdout",
     "output_type": "stream",
     "text": [
      "Created blank 'en' model\n"
     ]
    }
   ],
   "source": [
    "\n",
    "if model is not None:\n",
    "    nlp1 = spacy.load(model)  # load existing spaCy model\n",
    "    print(\"Loaded model '%s'\" % model)\n",
    "else:\n",
    "    nlp1 = spacy.blank('en')  # create blank Language class\n",
    "    print(\"Created blank 'en' model\")"
   ]
  },
  {
   "cell_type": "code",
   "execution_count": 93,
   "metadata": {},
   "outputs": [],
   "source": [
    "# create the built-in pipeline components and add them to the pipeline\n",
    "    # nlp.create_pipe works for built-ins that are registered with spaCy\n",
    "if 'ner' not in nlp1.pipe_names:\n",
    "    ner = nlp1.create_pipe('ner')\n",
    "    nlp1.add_pipe(ner, last=True)\n",
    "# otherwise, get it so we can add labels\n",
    "else:\n",
    "    ner = nlp1.get_pipe('ner')"
   ]
  },
  {
   "cell_type": "markdown",
   "metadata": {},
   "source": [
    "### Training the Recognizer \n",
    "- Add labels\n",
    "- Pipes\n",
    "- Begin - Training"
   ]
  },
  {
   "cell_type": "code",
   "execution_count": 98,
   "metadata": {},
   "outputs": [
    {
     "name": "stderr",
     "output_type": "stream",
     "text": [
      "100%|██████████| 1/1 [00:00<00:00, 15.16it/s]\n",
      "100%|██████████| 1/1 [00:00<00:00, 13.70it/s]\n",
      "100%|██████████| 1/1 [00:00<00:00, 22.76it/s]\n",
      "100%|██████████| 1/1 [00:00<00:00, 21.65it/s]\n",
      "  0%|          | 0/1 [00:00<?, ?it/s]"
     ]
    },
    {
     "name": "stdout",
     "output_type": "stream",
     "text": [
      "{'ner': 16.564602337267843}\n",
      "{'ner': 14.827931715317959}\n",
      "{'ner': 18.114572971360758}\n",
      "{'ner': 12.46197782579111}\n"
     ]
    },
    {
     "name": "stderr",
     "output_type": "stream",
     "text": [
      "100%|██████████| 1/1 [00:00<00:00, 15.37it/s]\n",
      "100%|██████████| 1/1 [00:00<00:00, 15.10it/s]\n",
      "100%|██████████| 1/1 [00:00<00:00, 16.80it/s]\n",
      "100%|██████████| 1/1 [00:00<00:00, 17.70it/s]\n",
      "  0%|          | 0/1 [00:00<?, ?it/s]"
     ]
    },
    {
     "name": "stdout",
     "output_type": "stream",
     "text": [
      "{'ner': 13.65527090999666}\n",
      "{'ner': 9.428885601168545}\n",
      "{'ner': 9.676069240513776}\n",
      "{'ner': 11.151256356737349}\n"
     ]
    },
    {
     "name": "stderr",
     "output_type": "stream",
     "text": [
      "100%|██████████| 1/1 [00:00<00:00, 13.93it/s]\n",
      "100%|██████████| 1/1 [00:00<00:00, 15.82it/s]\n",
      "100%|██████████| 1/1 [00:00<00:00, 20.95it/s]\n",
      "100%|██████████| 1/1 [00:00<00:00, 17.05it/s]\n",
      "  0%|          | 0/1 [00:00<?, ?it/s]"
     ]
    },
    {
     "name": "stdout",
     "output_type": "stream",
     "text": [
      "{'ner': 11.759540091751093}\n",
      "{'ner': 11.08342134951362}\n",
      "{'ner': 10.691691740290842}\n",
      "{'ner': 12.466992806903676}\n"
     ]
    },
    {
     "name": "stderr",
     "output_type": "stream",
     "text": [
      "100%|██████████| 1/1 [00:00<00:00, 19.94it/s]\n",
      "100%|██████████| 1/1 [00:00<00:00, 15.01it/s]\n",
      "100%|██████████| 1/1 [00:00<00:00, 19.40it/s]\n",
      "100%|██████████| 1/1 [00:00<00:00, 20.63it/s]\n",
      "  0%|          | 0/1 [00:00<?, ?it/s]"
     ]
    },
    {
     "name": "stdout",
     "output_type": "stream",
     "text": [
      "{'ner': 12.88451524380477}\n",
      "{'ner': 8.46314866195124}\n",
      "{'ner': 7.868420626529996}\n",
      "{'ner': 14.523150374195211}\n"
     ]
    },
    {
     "name": "stderr",
     "output_type": "stream",
     "text": [
      "100%|██████████| 1/1 [00:00<00:00, 15.81it/s]\n",
      "100%|██████████| 1/1 [00:00<00:00, 21.13it/s]\n",
      "100%|██████████| 1/1 [00:00<00:00, 14.47it/s]\n",
      "100%|██████████| 1/1 [00:00<00:00, 13.20it/s]\n",
      "  0%|          | 0/1 [00:00<?, ?it/s]"
     ]
    },
    {
     "name": "stdout",
     "output_type": "stream",
     "text": [
      "{'ner': 11.06671754784491}\n",
      "{'ner': 8.871171035458246}\n",
      "{'ner': 9.813386029723155}\n",
      "{'ner': 9.469727765634076}\n"
     ]
    },
    {
     "name": "stderr",
     "output_type": "stream",
     "text": [
      "100%|██████████| 1/1 [00:00<00:00, 19.71it/s]\n",
      "100%|██████████| 1/1 [00:00<00:00, 19.54it/s]\n",
      "100%|██████████| 1/1 [00:00<00:00, 23.07it/s]\n",
      "100%|██████████| 1/1 [00:00<00:00, 15.85it/s]\n",
      "  0%|          | 0/1 [00:00<?, ?it/s]"
     ]
    },
    {
     "name": "stdout",
     "output_type": "stream",
     "text": [
      "{'ner': 7.331634986929657}\n",
      "{'ner': 7.615756288733735}\n",
      "{'ner': 6.0851816622162005}\n",
      "{'ner': 9.265602919291354}\n"
     ]
    },
    {
     "name": "stderr",
     "output_type": "stream",
     "text": [
      "100%|██████████| 1/1 [00:00<00:00, 13.18it/s]\n",
      "100%|██████████| 1/1 [00:00<00:00, 14.68it/s]\n",
      "100%|██████████| 1/1 [00:00<00:00, 16.35it/s]\n",
      "100%|██████████| 1/1 [00:00<00:00, 19.31it/s]\n",
      "  0%|          | 0/1 [00:00<?, ?it/s]"
     ]
    },
    {
     "name": "stdout",
     "output_type": "stream",
     "text": [
      "{'ner': 9.844900319577164}\n",
      "{'ner': 7.248767656488364}\n",
      "{'ner': 13.588195381354614}\n",
      "{'ner': 10.063523689046164}\n"
     ]
    },
    {
     "name": "stderr",
     "output_type": "stream",
     "text": [
      "100%|██████████| 1/1 [00:00<00:00, 21.61it/s]\n",
      "100%|██████████| 1/1 [00:00<00:00, 17.13it/s]\n",
      "100%|██████████| 1/1 [00:00<00:00, 23.18it/s]\n",
      "100%|██████████| 1/1 [00:00<00:00, 12.86it/s]\n",
      "  0%|          | 0/1 [00:00<?, ?it/s]"
     ]
    },
    {
     "name": "stdout",
     "output_type": "stream",
     "text": [
      "{'ner': 6.24098489117743}\n",
      "{'ner': 9.632033458796258}\n",
      "{'ner': 7.996754363964783}\n",
      "{'ner': 8.348436640055581}\n"
     ]
    },
    {
     "name": "stderr",
     "output_type": "stream",
     "text": [
      "100%|██████████| 1/1 [00:00<00:00, 13.43it/s]\n",
      "100%|██████████| 1/1 [00:00<00:00, 16.98it/s]\n",
      "100%|██████████| 1/1 [00:00<00:00, 16.91it/s]\n",
      "100%|██████████| 1/1 [00:00<00:00, 20.90it/s]\n",
      "  0%|          | 0/1 [00:00<?, ?it/s]"
     ]
    },
    {
     "name": "stdout",
     "output_type": "stream",
     "text": [
      "{'ner': 6.8152611441091935}\n",
      "{'ner': 5.929972569138233}\n",
      "{'ner': 6.594593621337297}\n",
      "{'ner': 9.29074062138551}\n"
     ]
    },
    {
     "name": "stderr",
     "output_type": "stream",
     "text": [
      "100%|██████████| 1/1 [00:00<00:00, 12.31it/s]\n",
      "100%|██████████| 1/1 [00:00<00:00, 21.00it/s]\n",
      "100%|██████████| 1/1 [00:00<00:00, 17.60it/s]\n",
      "100%|██████████| 1/1 [00:00<00:00, 20.36it/s]\n",
      "  0%|          | 0/1 [00:00<?, ?it/s]"
     ]
    },
    {
     "name": "stdout",
     "output_type": "stream",
     "text": [
      "{'ner': 8.461826450986813}\n",
      "{'ner': 6.411213389932755}\n",
      "{'ner': 4.226641883551529}\n",
      "{'ner': 6.785093474308216}\n"
     ]
    },
    {
     "name": "stderr",
     "output_type": "stream",
     "text": [
      "100%|██████████| 1/1 [00:00<00:00, 16.88it/s]\n",
      "100%|██████████| 1/1 [00:00<00:00, 21.57it/s]\n",
      "100%|██████████| 1/1 [00:00<00:00, 20.37it/s]\n",
      "100%|██████████| 1/1 [00:00<00:00, 24.70it/s]\n",
      "  0%|          | 0/1 [00:00<?, ?it/s]"
     ]
    },
    {
     "name": "stdout",
     "output_type": "stream",
     "text": [
      "{'ner': 4.131587888199111}\n",
      "{'ner': 4.896788752249741}\n",
      "{'ner': 8.685789310480056}\n",
      "{'ner': 6.736749961855821}\n"
     ]
    },
    {
     "name": "stderr",
     "output_type": "stream",
     "text": [
      "100%|██████████| 1/1 [00:00<00:00, 16.01it/s]\n",
      "100%|██████████| 1/1 [00:00<00:00, 25.85it/s]\n",
      "100%|██████████| 1/1 [00:00<00:00, 23.98it/s]\n",
      "100%|██████████| 1/1 [00:00<00:00, 16.64it/s]\n",
      "100%|██████████| 1/1 [00:00<00:00, 19.46it/s]\n",
      "  0%|          | 0/1 [00:00<?, ?it/s]"
     ]
    },
    {
     "name": "stdout",
     "output_type": "stream",
     "text": [
      "{'ner': 4.475893274887124}\n",
      "{'ner': 4.3985198504219625}\n",
      "{'ner': 4.30003987776081}\n",
      "{'ner': 6.526630233316536}\n",
      "{'ner': 2.2149102813011114}\n"
     ]
    },
    {
     "name": "stderr",
     "output_type": "stream",
     "text": [
      "100%|██████████| 1/1 [00:00<00:00, 12.77it/s]\n",
      "100%|██████████| 1/1 [00:00<00:00, 19.70it/s]\n",
      "100%|██████████| 1/1 [00:00<00:00, 20.59it/s]\n",
      "100%|██████████| 1/1 [00:00<00:00, 16.33it/s]\n",
      "  0%|          | 0/1 [00:00<?, ?it/s]"
     ]
    },
    {
     "name": "stdout",
     "output_type": "stream",
     "text": [
      "{'ner': 1.6945301751815265}\n",
      "{'ner': 3.254246439192631}\n",
      "{'ner': 2.3411332453551044}\n",
      "{'ner': 6.447457334308559}\n"
     ]
    },
    {
     "name": "stderr",
     "output_type": "stream",
     "text": [
      "100%|██████████| 1/1 [00:00<00:00, 15.45it/s]\n",
      "100%|██████████| 1/1 [00:00<00:00, 14.87it/s]\n",
      "100%|██████████| 1/1 [00:00<00:00, 15.12it/s]\n",
      "100%|██████████| 1/1 [00:00<00:00, 15.15it/s]"
     ]
    },
    {
     "name": "stdout",
     "output_type": "stream",
     "text": [
      "{'ner': 2.5438480765355727}\n",
      "{'ner': 1.9246983118155152}\n",
      "{'ner': 1.6629503927991207}\n"
     ]
    },
    {
     "name": "stderr",
     "output_type": "stream",
     "text": [
      "\n",
      "100%|██████████| 1/1 [00:00<00:00, 13.01it/s]\n",
      "100%|██████████| 1/1 [00:00<00:00, 15.47it/s]\n",
      "  0%|          | 0/1 [00:00<?, ?it/s]"
     ]
    },
    {
     "name": "stdout",
     "output_type": "stream",
     "text": [
      "{'ner': 2.5825141036019605}\n",
      "{'ner': 3.10967457875901}\n",
      "{'ner': 1.5273153552853822}\n"
     ]
    },
    {
     "name": "stderr",
     "output_type": "stream",
     "text": [
      "100%|██████████| 1/1 [00:00<00:00, 13.31it/s]\n",
      "100%|██████████| 1/1 [00:00<00:00, 18.04it/s]\n",
      "100%|██████████| 1/1 [00:00<00:00, 22.34it/s]\n",
      "100%|██████████| 1/1 [00:00<00:00, 18.97it/s]\n",
      "  0%|          | 0/1 [00:00<?, ?it/s]"
     ]
    },
    {
     "name": "stdout",
     "output_type": "stream",
     "text": [
      "{'ner': 3.022417108437197}\n",
      "{'ner': 4.695387486846216}\n",
      "{'ner': 1.4117202073994113}\n",
      "{'ner': 1.5049301863023528}\n"
     ]
    },
    {
     "name": "stderr",
     "output_type": "stream",
     "text": [
      "100%|██████████| 1/1 [00:00<00:00, 19.31it/s]\n",
      "100%|██████████| 1/1 [00:00<00:00, 25.54it/s]\n",
      "100%|██████████| 1/1 [00:00<00:00, 22.22it/s]\n",
      "100%|██████████| 1/1 [00:00<00:00, 16.44it/s]\n",
      "  0%|          | 0/1 [00:00<?, ?it/s]"
     ]
    },
    {
     "name": "stdout",
     "output_type": "stream",
     "text": [
      "{'ner': 1.0322560670049274}\n",
      "{'ner': 0.41928281135716006}\n",
      "{'ner': 1.2126760587310557}\n",
      "{'ner': 0.7929386336148084}\n"
     ]
    },
    {
     "name": "stderr",
     "output_type": "stream",
     "text": [
      "100%|██████████| 1/1 [00:00<00:00, 13.61it/s]\n",
      "100%|██████████| 1/1 [00:00<00:00, 13.60it/s]\n",
      "100%|██████████| 1/1 [00:00<00:00, 20.55it/s]\n",
      "100%|██████████| 1/1 [00:00<00:00, 13.90it/s]\n",
      "  0%|          | 0/1 [00:00<?, ?it/s]"
     ]
    },
    {
     "name": "stdout",
     "output_type": "stream",
     "text": [
      "{'ner': 2.717065478699249}\n",
      "{'ner': 1.5848854615315773}\n",
      "{'ner': 0.5769687562327254}\n",
      "{'ner': 2.9401068682828635}\n"
     ]
    },
    {
     "name": "stderr",
     "output_type": "stream",
     "text": [
      "100%|██████████| 1/1 [00:00<00:00, 21.33it/s]\n",
      "100%|██████████| 1/1 [00:00<00:00, 21.71it/s]\n",
      "100%|██████████| 1/1 [00:00<00:00, 15.09it/s]\n",
      "100%|██████████| 1/1 [00:00<00:00, 17.66it/s]\n",
      "  0%|          | 0/1 [00:00<?, ?it/s]"
     ]
    },
    {
     "name": "stdout",
     "output_type": "stream",
     "text": [
      "{'ner': 10.538493514708783}\n",
      "{'ner': 1.1143193997696237}\n",
      "{'ner': 0.6766281718912653}\n",
      "{'ner': 0.8237608047530799}\n"
     ]
    },
    {
     "name": "stderr",
     "output_type": "stream",
     "text": [
      "100%|██████████| 1/1 [00:00<00:00, 22.09it/s]\n",
      "100%|██████████| 1/1 [00:00<00:00, 22.60it/s]\n",
      "100%|██████████| 1/1 [00:00<00:00, 16.82it/s]\n",
      "100%|██████████| 1/1 [00:00<00:00, 14.38it/s]\n",
      "  0%|          | 0/1 [00:00<?, ?it/s]"
     ]
    },
    {
     "name": "stdout",
     "output_type": "stream",
     "text": [
      "{'ner': 1.6080613427187322}\n",
      "{'ner': 0.39369089137162117}\n",
      "{'ner': 1.3881061915403141}\n",
      "{'ner': 0.42744917057348675}\n"
     ]
    },
    {
     "name": "stderr",
     "output_type": "stream",
     "text": [
      "100%|██████████| 1/1 [00:00<00:00, 12.78it/s]\n",
      "100%|██████████| 1/1 [00:00<00:00, 20.97it/s]\n",
      "100%|██████████| 1/1 [00:00<00:00, 14.86it/s]\n",
      "100%|██████████| 1/1 [00:00<00:00, 17.31it/s]\n",
      "  0%|          | 0/1 [00:00<?, ?it/s]"
     ]
    },
    {
     "name": "stdout",
     "output_type": "stream",
     "text": [
      "{'ner': 2.566943107546596}\n",
      "{'ner': 0.10456680619894278}\n",
      "{'ner': 1.552960492449899}\n",
      "{'ner': 2.28700072444864}\n"
     ]
    },
    {
     "name": "stderr",
     "output_type": "stream",
     "text": [
      "100%|██████████| 1/1 [00:00<00:00, 16.54it/s]\n",
      "100%|██████████| 1/1 [00:00<00:00, 24.58it/s]\n",
      "100%|██████████| 1/1 [00:00<00:00, 17.88it/s]\n",
      "100%|██████████| 1/1 [00:00<00:00, 16.18it/s]\n",
      "  0%|          | 0/1 [00:00<?, ?it/s]"
     ]
    },
    {
     "name": "stdout",
     "output_type": "stream",
     "text": [
      "{'ner': 1.7519622779114585}\n",
      "{'ner': 0.19952040879800662}\n",
      "{'ner': 0.2036311225504283}\n",
      "{'ner': 0.7405010462940672}\n"
     ]
    },
    {
     "name": "stderr",
     "output_type": "stream",
     "text": [
      "100%|██████████| 1/1 [00:00<00:00, 19.26it/s]\n",
      "100%|██████████| 1/1 [00:00<00:00, 18.24it/s]\n",
      "100%|██████████| 1/1 [00:00<00:00, 19.26it/s]\n",
      "100%|██████████| 1/1 [00:00<00:00, 16.65it/s]\n",
      "  0%|          | 0/1 [00:00<?, ?it/s]"
     ]
    },
    {
     "name": "stdout",
     "output_type": "stream",
     "text": [
      "{'ner': 2.189024344782026}\n",
      "{'ner': 0.09398584227931017}\n",
      "{'ner': 1.1681194856902075}\n",
      "{'ner': 0.6597801485940834}\n"
     ]
    },
    {
     "name": "stderr",
     "output_type": "stream",
     "text": [
      "100%|██████████| 1/1 [00:00<00:00, 21.95it/s]\n",
      "100%|██████████| 1/1 [00:00<00:00, 13.88it/s]\n",
      "100%|██████████| 1/1 [00:00<00:00, 13.22it/s]\n",
      "  0%|          | 0/1 [00:00<?, ?it/s]"
     ]
    },
    {
     "name": "stdout",
     "output_type": "stream",
     "text": [
      "{'ner': 0.048695573100197266}\n",
      "{'ner': 0.032225569531968166}\n",
      "{'ner': 0.27083000688039927}\n"
     ]
    },
    {
     "name": "stderr",
     "output_type": "stream",
     "text": [
      "100%|██████████| 1/1 [00:00<00:00, 13.57it/s]\n",
      "100%|██████████| 1/1 [00:00<00:00, 19.02it/s]\n",
      "100%|██████████| 1/1 [00:00<00:00, 23.73it/s]\n",
      "100%|██████████| 1/1 [00:00<00:00, 21.44it/s]\n",
      "  0%|          | 0/1 [00:00<?, ?it/s]"
     ]
    },
    {
     "name": "stdout",
     "output_type": "stream",
     "text": [
      "{'ner': 0.021731832713215583}\n",
      "{'ner': 0.060962577039596}\n",
      "{'ner': 0.03396333703651111}\n",
      "{'ner': 0.03713737791635634}\n"
     ]
    },
    {
     "name": "stderr",
     "output_type": "stream",
     "text": [
      "100%|██████████| 1/1 [00:00<00:00, 13.44it/s]\n",
      "100%|██████████| 1/1 [00:00<00:00, 15.88it/s]"
     ]
    },
    {
     "name": "stdout",
     "output_type": "stream",
     "text": [
      "{'ner': 1.361040548888485}\n",
      "{'ner': 3.124901902875781}\n"
     ]
    },
    {
     "name": "stderr",
     "output_type": "stream",
     "text": [
      "\n"
     ]
    }
   ],
   "source": [
    "# add labels\n",
    "for _, annotations in TRAIN_DATA:\n",
    "    for ent in annotations.get('entities'):\n",
    "        ner.add_label(ent[2])\n",
    "\n",
    "    # get names of other pipes to disable them during training\n",
    "other_pipes = [pipe for pipe in nlp1.pipe_names if pipe != 'ner']\n",
    "with nlp1.disable_pipes(*other_pipes):  # only train NER\n",
    "    optimizer = nlp1.begin_training()\n",
    "    for itn in range(n_iter):\n",
    "        random.shuffle(TRAIN_DATA)\n",
    "        losses = {}\n",
    "        for text, annotations in tqdm(TRAIN_DATA):\n",
    "            nlp1.update(\n",
    "                [text],  # batch of texts\n",
    "                [annotations],  # batch of annotations\n",
    "                drop=0.5,  # dropout - make it harder to memorise data\n",
    "                sgd=optimizer,  # callable to update weights\n",
    "                losses=losses)\n",
    "        print(losses)"
   ]
  },
  {
   "cell_type": "code",
   "execution_count": 99,
   "metadata": {},
   "outputs": [
    {
     "name": "stdout",
     "output_type": "stream",
     "text": [
      "Entities [('switch', 'PRODUCT'), ('switch', 'PRODUCT'), ('switch', 'PRODUCT'), ('small scratches', 'CONDITION'), ('light scratches', 'CONDITION'), ('https://imgur.com/a/Rr3jRoJ\\n\\nLooking', 'URL'), ('280  locally', 'LOCALPRICE'), ('HOUSTON- GALVESTON area', 'LOCATION')]\n"
     ]
    }
   ],
   "source": [
    "# test the trained model\n",
    "for text, _ in TRAIN_DATA:\n",
    "    doc = nlp1(x)\n",
    "    print('Entities', [(ent.text, ent.label_) for ent in doc.ents])\n",
    "    "
   ]
  },
  {
   "cell_type": "code",
   "execution_count": 100,
   "metadata": {},
   "outputs": [
    {
     "data": {
      "text/html": [
       "<div class=\"entities\" style=\"line-height: 2.5; direction: ltr\">~~hey guys, i got this \n",
       "<mark class=\"entity\" style=\"background: #bfeeb7; padding: 0.45em 0.6em; margin: 0 0.25em; line-height: 1; border-radius: 0.35em;\">\n",
       "    switch\n",
       "    <span style=\"font-size: 0.8em; font-weight: bold; line-height: 1; border-radius: 0.35em; text-transform: uppercase; vertical-align: middle; margin-left: 0.5rem\">PRODUCT</span>\n",
       "</mark>\n",
       " up for grabs, the website is my \n",
       "<mark class=\"entity\" style=\"background: #bfeeb7; padding: 0.45em 0.6em; margin: 0 0.25em; line-height: 1; border-radius: 0.35em;\">\n",
       "    switch\n",
       "    <span style=\"font-size: 0.8em; font-weight: bold; line-height: 1; border-radius: 0.35em; text-transform: uppercase; vertical-align: middle; margin-left: 0.5rem\">PRODUCT</span>\n",
       "</mark>\n",
       " patched shows that it is hackable, but i believe the latest update has been applied so may not be hackable anymore? i dont really know.</br></br>I had given this to my son last xmass but then he asked for a laptop so in part payment he gave me the \n",
       "<mark class=\"entity\" style=\"background: #bfeeb7; padding: 0.45em 0.6em; margin: 0 0.25em; line-height: 1; border-radius: 0.35em;\">\n",
       "    switch\n",
       "    <span style=\"font-size: 0.8em; font-weight: bold; line-height: 1; border-radius: 0.35em; text-transform: uppercase; vertical-align: middle; margin-left: 0.5rem\">PRODUCT</span>\n",
       "</mark>\n",
       ". under his possession he always had a screen protector in it. It does however have like 3 or 4 \n",
       "<mark class=\"entity\" style=\"background: #ddd; padding: 0.45em 0.6em; margin: 0 0.25em; line-height: 1; border-radius: 0.35em;\">\n",
       "    small scratches\n",
       "    <span style=\"font-size: 0.8em; font-weight: bold; line-height: 1; border-radius: 0.35em; text-transform: uppercase; vertical-align: middle; margin-left: 0.5rem\">CONDITION</span>\n",
       "</mark>\n",
       " that are not visible while playing. The body overall has normal signs of use like \n",
       "<mark class=\"entity\" style=\"background: #ddd; padding: 0.45em 0.6em; margin: 0 0.25em; line-height: 1; border-radius: 0.35em;\">\n",
       "    light scratches\n",
       "    <span style=\"font-size: 0.8em; font-weight: bold; line-height: 1; border-radius: 0.35em; text-transform: uppercase; vertical-align: middle; margin-left: 0.5rem\">CONDITION</span>\n",
       "</mark>\n",
       " and what not but nothing crazy. The games included are Smash Ultimate, Mariokart 8 Deluxe and Minecraft. It does have a new pair of joy cons because the old left one the bumper is bad, maybe an easy fix, but didn't bother and just bought another set. The old are included too. The battery seems to be holding a charge just fine. I just dont use it, rather play games on my pc as well.</br></br>I do have the original box, and what i think is most of the accessories check pics for all the is included. </br></br>pictures: \n",
       "<mark class=\"entity\" style=\"background: #ddd; padding: 0.45em 0.6em; margin: 0 0.25em; line-height: 1; border-radius: 0.35em;\">\n",
       "    https://imgur.com/a/Rr3jRoJ\n",
       "\n",
       "Looking\n",
       "    <span style=\"font-size: 0.8em; font-weight: bold; line-height: 1; border-radius: 0.35em; text-transform: uppercase; vertical-align: middle; margin-left: 0.5rem\">URL</span>\n",
       "</mark>\n",
       " for \n",
       "<mark class=\"entity\" style=\"background: #ddd; padding: 0.45em 0.6em; margin: 0 0.25em; line-height: 1; border-radius: 0.35em;\">\n",
       "    280  locally\n",
       "    <span style=\"font-size: 0.8em; font-weight: bold; line-height: 1; border-radius: 0.35em; text-transform: uppercase; vertical-align: middle; margin-left: 0.5rem\">LOCALPRICE</span>\n",
       "</mark>\n",
       " (\n",
       "<mark class=\"entity\" style=\"background: #ddd; padding: 0.45em 0.6em; margin: 0 0.25em; line-height: 1; border-radius: 0.35em;\">\n",
       "    HOUSTON- GALVESTON area\n",
       "    <span style=\"font-size: 0.8em; font-weight: bold; line-height: 1; border-radius: 0.35em; text-transform: uppercase; vertical-align: middle; margin-left: 0.5rem\">LOCATION</span>\n",
       "</mark>\n",
       ") \n",
       "\n",
       "shipped looking for about 300 to cover shipping.  Rather sell locally so sort of firm on the shipped price.~~\n",
       "\n",
       "SOLD</div>"
      ],
      "text/plain": [
       "<IPython.core.display.HTML object>"
      ]
     },
     "metadata": {},
     "output_type": "display_data"
    }
   ],
   "source": [
    "spacy.displacy.render(doc, style='ent', jupyter=True)"
   ]
  },
  {
   "cell_type": "code",
   "execution_count": null,
   "metadata": {},
   "outputs": [],
   "source": [
    "# save model to output directory\n",
    "if output_dir is not None:\n",
    "    output_dir = Path(output_dir)\n",
    "if not output_dir.exists():\n",
    "    output_dir.mkdir()\n",
    "nlp.to_disk(output_dir)\n",
    "print(\"Saved model to\", output_dir)\n"
   ]
  },
  {
   "cell_type": "code",
   "execution_count": null,
   "metadata": {},
   "outputs": [],
   "source": [
    "# test the saved model\n",
    "print(\"Loading from\", output_dir)\n",
    "nlp2 = spacy.load(output_dir)\n",
    "for text, _ in TRAIN_DATA:\n",
    "    doc = nlp2(text)\n",
    "    print(\"Entities\", [(ent.text, ent.label_) for ent in doc.ents])"
   ]
  }
 ],
 "metadata": {
  "kernelspec": {
   "display_name": "learn-env",
   "language": "python",
   "name": "learn-env"
  },
  "language_info": {
   "codemirror_mode": {
    "name": "ipython",
    "version": 3
   },
   "file_extension": ".py",
   "mimetype": "text/x-python",
   "name": "python",
   "nbconvert_exporter": "python",
   "pygments_lexer": "ipython3",
   "version": "3.7.3"
  }
 },
 "nbformat": 4,
 "nbformat_minor": 2
}
